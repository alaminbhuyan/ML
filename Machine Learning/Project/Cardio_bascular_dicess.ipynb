{
 "cells": [
  {
   "cell_type": "code",
   "execution_count": 29,
   "metadata": {
    "collapsed": true
   },
   "outputs": [],
   "source": [
    "import numpy as np\n",
    "import pandas as pd\n",
    "from sklearn.model_selection import train_test_split\n",
    "from sklearn.ensemble import RandomForestClassifier\n",
    "from sklearn.tree import DecisionTreeClassifier\n",
    "from sklearn.svm import SVC"
   ]
  },
  {
   "cell_type": "code",
   "execution_count": 2,
   "outputs": [
    {
     "data": {
      "text/plain": "          id    age  gender  height  weight  ap_hi  ap_lo  cholesterol  gluc  \\\n0          0  18393       2     168    62.0    110     80            1     1   \n1          1  20228       1     156    85.0    140     90            3     1   \n2          2  18857       1     165    64.0    130     70            3     1   \n3          3  17623       2     169    82.0    150    100            1     1   \n4          4  17474       1     156    56.0    100     60            1     1   \n...      ...    ...     ...     ...     ...    ...    ...          ...   ...   \n69995  99993  19240       2     168    76.0    120     80            1     1   \n69996  99995  22601       1     158   126.0    140     90            2     2   \n69997  99996  19066       2     183   105.0    180     90            3     1   \n69998  99998  22431       1     163    72.0    135     80            1     2   \n69999  99999  20540       1     170    72.0    120     80            2     1   \n\n       smoke  alco  active  cardio  \n0          0     0       1       0  \n1          0     0       1       1  \n2          0     0       0       1  \n3          0     0       1       1  \n4          0     0       0       0  \n...      ...   ...     ...     ...  \n69995      1     0       1       0  \n69996      0     0       1       1  \n69997      0     1       0       1  \n69998      0     0       0       1  \n69999      0     0       1       0  \n\n[70000 rows x 13 columns]",
      "text/html": "<div>\n<style scoped>\n    .dataframe tbody tr th:only-of-type {\n        vertical-align: middle;\n    }\n\n    .dataframe tbody tr th {\n        vertical-align: top;\n    }\n\n    .dataframe thead th {\n        text-align: right;\n    }\n</style>\n<table border=\"1\" class=\"dataframe\">\n  <thead>\n    <tr style=\"text-align: right;\">\n      <th></th>\n      <th>id</th>\n      <th>age</th>\n      <th>gender</th>\n      <th>height</th>\n      <th>weight</th>\n      <th>ap_hi</th>\n      <th>ap_lo</th>\n      <th>cholesterol</th>\n      <th>gluc</th>\n      <th>smoke</th>\n      <th>alco</th>\n      <th>active</th>\n      <th>cardio</th>\n    </tr>\n  </thead>\n  <tbody>\n    <tr>\n      <th>0</th>\n      <td>0</td>\n      <td>18393</td>\n      <td>2</td>\n      <td>168</td>\n      <td>62.0</td>\n      <td>110</td>\n      <td>80</td>\n      <td>1</td>\n      <td>1</td>\n      <td>0</td>\n      <td>0</td>\n      <td>1</td>\n      <td>0</td>\n    </tr>\n    <tr>\n      <th>1</th>\n      <td>1</td>\n      <td>20228</td>\n      <td>1</td>\n      <td>156</td>\n      <td>85.0</td>\n      <td>140</td>\n      <td>90</td>\n      <td>3</td>\n      <td>1</td>\n      <td>0</td>\n      <td>0</td>\n      <td>1</td>\n      <td>1</td>\n    </tr>\n    <tr>\n      <th>2</th>\n      <td>2</td>\n      <td>18857</td>\n      <td>1</td>\n      <td>165</td>\n      <td>64.0</td>\n      <td>130</td>\n      <td>70</td>\n      <td>3</td>\n      <td>1</td>\n      <td>0</td>\n      <td>0</td>\n      <td>0</td>\n      <td>1</td>\n    </tr>\n    <tr>\n      <th>3</th>\n      <td>3</td>\n      <td>17623</td>\n      <td>2</td>\n      <td>169</td>\n      <td>82.0</td>\n      <td>150</td>\n      <td>100</td>\n      <td>1</td>\n      <td>1</td>\n      <td>0</td>\n      <td>0</td>\n      <td>1</td>\n      <td>1</td>\n    </tr>\n    <tr>\n      <th>4</th>\n      <td>4</td>\n      <td>17474</td>\n      <td>1</td>\n      <td>156</td>\n      <td>56.0</td>\n      <td>100</td>\n      <td>60</td>\n      <td>1</td>\n      <td>1</td>\n      <td>0</td>\n      <td>0</td>\n      <td>0</td>\n      <td>0</td>\n    </tr>\n    <tr>\n      <th>...</th>\n      <td>...</td>\n      <td>...</td>\n      <td>...</td>\n      <td>...</td>\n      <td>...</td>\n      <td>...</td>\n      <td>...</td>\n      <td>...</td>\n      <td>...</td>\n      <td>...</td>\n      <td>...</td>\n      <td>...</td>\n      <td>...</td>\n    </tr>\n    <tr>\n      <th>69995</th>\n      <td>99993</td>\n      <td>19240</td>\n      <td>2</td>\n      <td>168</td>\n      <td>76.0</td>\n      <td>120</td>\n      <td>80</td>\n      <td>1</td>\n      <td>1</td>\n      <td>1</td>\n      <td>0</td>\n      <td>1</td>\n      <td>0</td>\n    </tr>\n    <tr>\n      <th>69996</th>\n      <td>99995</td>\n      <td>22601</td>\n      <td>1</td>\n      <td>158</td>\n      <td>126.0</td>\n      <td>140</td>\n      <td>90</td>\n      <td>2</td>\n      <td>2</td>\n      <td>0</td>\n      <td>0</td>\n      <td>1</td>\n      <td>1</td>\n    </tr>\n    <tr>\n      <th>69997</th>\n      <td>99996</td>\n      <td>19066</td>\n      <td>2</td>\n      <td>183</td>\n      <td>105.0</td>\n      <td>180</td>\n      <td>90</td>\n      <td>3</td>\n      <td>1</td>\n      <td>0</td>\n      <td>1</td>\n      <td>0</td>\n      <td>1</td>\n    </tr>\n    <tr>\n      <th>69998</th>\n      <td>99998</td>\n      <td>22431</td>\n      <td>1</td>\n      <td>163</td>\n      <td>72.0</td>\n      <td>135</td>\n      <td>80</td>\n      <td>1</td>\n      <td>2</td>\n      <td>0</td>\n      <td>0</td>\n      <td>0</td>\n      <td>1</td>\n    </tr>\n    <tr>\n      <th>69999</th>\n      <td>99999</td>\n      <td>20540</td>\n      <td>1</td>\n      <td>170</td>\n      <td>72.0</td>\n      <td>120</td>\n      <td>80</td>\n      <td>2</td>\n      <td>1</td>\n      <td>0</td>\n      <td>0</td>\n      <td>1</td>\n      <td>0</td>\n    </tr>\n  </tbody>\n</table>\n<p>70000 rows × 13 columns</p>\n</div>"
     },
     "execution_count": 2,
     "metadata": {},
     "output_type": "execute_result"
    }
   ],
   "source": [
    "df = pd.read_csv('cardio_train.csv',sep=';')\n",
    "df"
   ],
   "metadata": {
    "collapsed": false,
    "pycharm": {
     "name": "#%%\n"
    }
   }
  },
  {
   "cell_type": "code",
   "execution_count": 3,
   "outputs": [
    {
     "data": {
      "text/plain": "(70000, 13)"
     },
     "execution_count": 3,
     "metadata": {},
     "output_type": "execute_result"
    }
   ],
   "source": [
    "df.shape"
   ],
   "metadata": {
    "collapsed": false,
    "pycharm": {
     "name": "#%%\n"
    }
   }
  },
  {
   "cell_type": "code",
   "execution_count": 4,
   "outputs": [
    {
     "data": {
      "text/plain": "0    35021\n1    34979\nName: cardio, dtype: int64"
     },
     "execution_count": 4,
     "metadata": {},
     "output_type": "execute_result"
    }
   ],
   "source": [
    "df['cardio'].value_counts()"
   ],
   "metadata": {
    "collapsed": false,
    "pycharm": {
     "name": "#%%\n"
    }
   }
  },
  {
   "cell_type": "code",
   "execution_count": 5,
   "outputs": [
    {
     "data": {
      "text/plain": "False"
     },
     "execution_count": 5,
     "metadata": {},
     "output_type": "execute_result"
    }
   ],
   "source": [
    "df.isnull().values.any()\n"
   ],
   "metadata": {
    "collapsed": false,
    "pycharm": {
     "name": "#%%\n"
    }
   }
  },
  {
   "cell_type": "code",
   "execution_count": 6,
   "outputs": [
    {
     "data": {
      "text/plain": "id             0\nage            0\ngender         0\nheight         0\nweight         0\nap_hi          0\nap_lo          0\ncholesterol    0\ngluc           0\nsmoke          0\nalco           0\nactive         0\ncardio         0\ndtype: int64"
     },
     "execution_count": 6,
     "metadata": {},
     "output_type": "execute_result"
    }
   ],
   "source": [
    "df.isnull().sum()\n"
   ],
   "metadata": {
    "collapsed": false,
    "pycharm": {
     "name": "#%%\n"
    }
   }
  },
  {
   "cell_type": "code",
   "execution_count": 7,
   "outputs": [
    {
     "data": {
      "text/plain": "id             0\nage            0\ngender         0\nheight         0\nweight         0\nap_hi          0\nap_lo          0\ncholesterol    0\ngluc           0\nsmoke          0\nalco           0\nactive         0\ncardio         0\ndtype: int64"
     },
     "execution_count": 7,
     "metadata": {},
     "output_type": "execute_result"
    }
   ],
   "source": [
    "df.isna().sum()"
   ],
   "metadata": {
    "collapsed": false,
    "pycharm": {
     "name": "#%%\n"
    }
   }
  },
  {
   "cell_type": "code",
   "execution_count": 8,
   "outputs": [
    {
     "data": {
      "text/plain": "                 id           age        gender        height        weight  \\\ncount  70000.000000  70000.000000  70000.000000  70000.000000  70000.000000   \nmean   49972.419900  19468.865814      1.349571    164.359229     74.205690   \nstd    28851.302323   2467.251667      0.476838      8.210126     14.395757   \nmin        0.000000  10798.000000      1.000000     55.000000     10.000000   \n25%    25006.750000  17664.000000      1.000000    159.000000     65.000000   \n50%    50001.500000  19703.000000      1.000000    165.000000     72.000000   \n75%    74889.250000  21327.000000      2.000000    170.000000     82.000000   \nmax    99999.000000  23713.000000      2.000000    250.000000    200.000000   \n\n              ap_hi         ap_lo   cholesterol          gluc         smoke  \\\ncount  70000.000000  70000.000000  70000.000000  70000.000000  70000.000000   \nmean     128.817286     96.630414      1.366871      1.226457      0.088129   \nstd      154.011419    188.472530      0.680250      0.572270      0.283484   \nmin     -150.000000    -70.000000      1.000000      1.000000      0.000000   \n25%      120.000000     80.000000      1.000000      1.000000      0.000000   \n50%      120.000000     80.000000      1.000000      1.000000      0.000000   \n75%      140.000000     90.000000      2.000000      1.000000      0.000000   \nmax    16020.000000  11000.000000      3.000000      3.000000      1.000000   \n\n               alco        active        cardio  \ncount  70000.000000  70000.000000  70000.000000  \nmean       0.053771      0.803729      0.499700  \nstd        0.225568      0.397179      0.500003  \nmin        0.000000      0.000000      0.000000  \n25%        0.000000      1.000000      0.000000  \n50%        0.000000      1.000000      0.000000  \n75%        0.000000      1.000000      1.000000  \nmax        1.000000      1.000000      1.000000  ",
      "text/html": "<div>\n<style scoped>\n    .dataframe tbody tr th:only-of-type {\n        vertical-align: middle;\n    }\n\n    .dataframe tbody tr th {\n        vertical-align: top;\n    }\n\n    .dataframe thead th {\n        text-align: right;\n    }\n</style>\n<table border=\"1\" class=\"dataframe\">\n  <thead>\n    <tr style=\"text-align: right;\">\n      <th></th>\n      <th>id</th>\n      <th>age</th>\n      <th>gender</th>\n      <th>height</th>\n      <th>weight</th>\n      <th>ap_hi</th>\n      <th>ap_lo</th>\n      <th>cholesterol</th>\n      <th>gluc</th>\n      <th>smoke</th>\n      <th>alco</th>\n      <th>active</th>\n      <th>cardio</th>\n    </tr>\n  </thead>\n  <tbody>\n    <tr>\n      <th>count</th>\n      <td>70000.000000</td>\n      <td>70000.000000</td>\n      <td>70000.000000</td>\n      <td>70000.000000</td>\n      <td>70000.000000</td>\n      <td>70000.000000</td>\n      <td>70000.000000</td>\n      <td>70000.000000</td>\n      <td>70000.000000</td>\n      <td>70000.000000</td>\n      <td>70000.000000</td>\n      <td>70000.000000</td>\n      <td>70000.000000</td>\n    </tr>\n    <tr>\n      <th>mean</th>\n      <td>49972.419900</td>\n      <td>19468.865814</td>\n      <td>1.349571</td>\n      <td>164.359229</td>\n      <td>74.205690</td>\n      <td>128.817286</td>\n      <td>96.630414</td>\n      <td>1.366871</td>\n      <td>1.226457</td>\n      <td>0.088129</td>\n      <td>0.053771</td>\n      <td>0.803729</td>\n      <td>0.499700</td>\n    </tr>\n    <tr>\n      <th>std</th>\n      <td>28851.302323</td>\n      <td>2467.251667</td>\n      <td>0.476838</td>\n      <td>8.210126</td>\n      <td>14.395757</td>\n      <td>154.011419</td>\n      <td>188.472530</td>\n      <td>0.680250</td>\n      <td>0.572270</td>\n      <td>0.283484</td>\n      <td>0.225568</td>\n      <td>0.397179</td>\n      <td>0.500003</td>\n    </tr>\n    <tr>\n      <th>min</th>\n      <td>0.000000</td>\n      <td>10798.000000</td>\n      <td>1.000000</td>\n      <td>55.000000</td>\n      <td>10.000000</td>\n      <td>-150.000000</td>\n      <td>-70.000000</td>\n      <td>1.000000</td>\n      <td>1.000000</td>\n      <td>0.000000</td>\n      <td>0.000000</td>\n      <td>0.000000</td>\n      <td>0.000000</td>\n    </tr>\n    <tr>\n      <th>25%</th>\n      <td>25006.750000</td>\n      <td>17664.000000</td>\n      <td>1.000000</td>\n      <td>159.000000</td>\n      <td>65.000000</td>\n      <td>120.000000</td>\n      <td>80.000000</td>\n      <td>1.000000</td>\n      <td>1.000000</td>\n      <td>0.000000</td>\n      <td>0.000000</td>\n      <td>1.000000</td>\n      <td>0.000000</td>\n    </tr>\n    <tr>\n      <th>50%</th>\n      <td>50001.500000</td>\n      <td>19703.000000</td>\n      <td>1.000000</td>\n      <td>165.000000</td>\n      <td>72.000000</td>\n      <td>120.000000</td>\n      <td>80.000000</td>\n      <td>1.000000</td>\n      <td>1.000000</td>\n      <td>0.000000</td>\n      <td>0.000000</td>\n      <td>1.000000</td>\n      <td>0.000000</td>\n    </tr>\n    <tr>\n      <th>75%</th>\n      <td>74889.250000</td>\n      <td>21327.000000</td>\n      <td>2.000000</td>\n      <td>170.000000</td>\n      <td>82.000000</td>\n      <td>140.000000</td>\n      <td>90.000000</td>\n      <td>2.000000</td>\n      <td>1.000000</td>\n      <td>0.000000</td>\n      <td>0.000000</td>\n      <td>1.000000</td>\n      <td>1.000000</td>\n    </tr>\n    <tr>\n      <th>max</th>\n      <td>99999.000000</td>\n      <td>23713.000000</td>\n      <td>2.000000</td>\n      <td>250.000000</td>\n      <td>200.000000</td>\n      <td>16020.000000</td>\n      <td>11000.000000</td>\n      <td>3.000000</td>\n      <td>3.000000</td>\n      <td>1.000000</td>\n      <td>1.000000</td>\n      <td>1.000000</td>\n      <td>1.000000</td>\n    </tr>\n  </tbody>\n</table>\n</div>"
     },
     "execution_count": 8,
     "metadata": {},
     "output_type": "execute_result"
    }
   ],
   "source": [
    "df.describe()"
   ],
   "metadata": {
    "collapsed": false,
    "pycharm": {
     "name": "#%%\n"
    }
   }
  },
  {
   "cell_type": "code",
   "execution_count": 9,
   "outputs": [
    {
     "data": {
      "text/plain": "                   id       age    gender    height    weight     ap_hi  \\\nid           1.000000  0.003457  0.003502 -0.003038 -0.001830  0.003356   \nage          0.003457  1.000000 -0.022811 -0.081515  0.053684  0.020764   \ngender       0.003502 -0.022811  1.000000  0.499033  0.155406  0.006005   \nheight      -0.003038 -0.081515  0.499033  1.000000  0.290968  0.005488   \nweight      -0.001830  0.053684  0.155406  0.290968  1.000000  0.030702   \nap_hi        0.003356  0.020764  0.006005  0.005488  0.030702  1.000000   \nap_lo       -0.002529  0.017647  0.015254  0.006150  0.043710  0.016086   \ncholesterol  0.006106  0.154424 -0.035821 -0.050226  0.141768  0.023778   \ngluc         0.002467  0.098703 -0.020491 -0.018595  0.106857  0.011841   \nsmoke       -0.003699 -0.047633  0.338135  0.187989  0.067780 -0.000922   \nalco         0.001210 -0.029723  0.170966  0.094419  0.067113  0.001408   \nactive       0.003755 -0.009927  0.005866 -0.006570 -0.016867 -0.000033   \ncardio       0.003799  0.238159  0.008109 -0.010821  0.181660  0.054475   \n\n                ap_lo  cholesterol      gluc     smoke      alco    active  \\\nid          -0.002529     0.006106  0.002467 -0.003699  0.001210  0.003755   \nage          0.017647     0.154424  0.098703 -0.047633 -0.029723 -0.009927   \ngender       0.015254    -0.035821 -0.020491  0.338135  0.170966  0.005866   \nheight       0.006150    -0.050226 -0.018595  0.187989  0.094419 -0.006570   \nweight       0.043710     0.141768  0.106857  0.067780  0.067113 -0.016867   \nap_hi        0.016086     0.023778  0.011841 -0.000922  0.001408 -0.000033   \nap_lo        1.000000     0.024019  0.010806  0.005186  0.010601  0.004780   \ncholesterol  0.024019     1.000000  0.451578  0.010354  0.035760  0.009911   \ngluc         0.010806     0.451578  1.000000 -0.004756  0.011246 -0.006770   \nsmoke        0.005186     0.010354 -0.004756  1.000000  0.340094  0.025858   \nalco         0.010601     0.035760  0.011246  0.340094  1.000000  0.025476   \nactive       0.004780     0.009911 -0.006770  0.025858  0.025476  1.000000   \ncardio       0.065719     0.221147  0.089307 -0.015486 -0.007330 -0.035653   \n\n               cardio  \nid           0.003799  \nage          0.238159  \ngender       0.008109  \nheight      -0.010821  \nweight       0.181660  \nap_hi        0.054475  \nap_lo        0.065719  \ncholesterol  0.221147  \ngluc         0.089307  \nsmoke       -0.015486  \nalco        -0.007330  \nactive      -0.035653  \ncardio       1.000000  ",
      "text/html": "<div>\n<style scoped>\n    .dataframe tbody tr th:only-of-type {\n        vertical-align: middle;\n    }\n\n    .dataframe tbody tr th {\n        vertical-align: top;\n    }\n\n    .dataframe thead th {\n        text-align: right;\n    }\n</style>\n<table border=\"1\" class=\"dataframe\">\n  <thead>\n    <tr style=\"text-align: right;\">\n      <th></th>\n      <th>id</th>\n      <th>age</th>\n      <th>gender</th>\n      <th>height</th>\n      <th>weight</th>\n      <th>ap_hi</th>\n      <th>ap_lo</th>\n      <th>cholesterol</th>\n      <th>gluc</th>\n      <th>smoke</th>\n      <th>alco</th>\n      <th>active</th>\n      <th>cardio</th>\n    </tr>\n  </thead>\n  <tbody>\n    <tr>\n      <th>id</th>\n      <td>1.000000</td>\n      <td>0.003457</td>\n      <td>0.003502</td>\n      <td>-0.003038</td>\n      <td>-0.001830</td>\n      <td>0.003356</td>\n      <td>-0.002529</td>\n      <td>0.006106</td>\n      <td>0.002467</td>\n      <td>-0.003699</td>\n      <td>0.001210</td>\n      <td>0.003755</td>\n      <td>0.003799</td>\n    </tr>\n    <tr>\n      <th>age</th>\n      <td>0.003457</td>\n      <td>1.000000</td>\n      <td>-0.022811</td>\n      <td>-0.081515</td>\n      <td>0.053684</td>\n      <td>0.020764</td>\n      <td>0.017647</td>\n      <td>0.154424</td>\n      <td>0.098703</td>\n      <td>-0.047633</td>\n      <td>-0.029723</td>\n      <td>-0.009927</td>\n      <td>0.238159</td>\n    </tr>\n    <tr>\n      <th>gender</th>\n      <td>0.003502</td>\n      <td>-0.022811</td>\n      <td>1.000000</td>\n      <td>0.499033</td>\n      <td>0.155406</td>\n      <td>0.006005</td>\n      <td>0.015254</td>\n      <td>-0.035821</td>\n      <td>-0.020491</td>\n      <td>0.338135</td>\n      <td>0.170966</td>\n      <td>0.005866</td>\n      <td>0.008109</td>\n    </tr>\n    <tr>\n      <th>height</th>\n      <td>-0.003038</td>\n      <td>-0.081515</td>\n      <td>0.499033</td>\n      <td>1.000000</td>\n      <td>0.290968</td>\n      <td>0.005488</td>\n      <td>0.006150</td>\n      <td>-0.050226</td>\n      <td>-0.018595</td>\n      <td>0.187989</td>\n      <td>0.094419</td>\n      <td>-0.006570</td>\n      <td>-0.010821</td>\n    </tr>\n    <tr>\n      <th>weight</th>\n      <td>-0.001830</td>\n      <td>0.053684</td>\n      <td>0.155406</td>\n      <td>0.290968</td>\n      <td>1.000000</td>\n      <td>0.030702</td>\n      <td>0.043710</td>\n      <td>0.141768</td>\n      <td>0.106857</td>\n      <td>0.067780</td>\n      <td>0.067113</td>\n      <td>-0.016867</td>\n      <td>0.181660</td>\n    </tr>\n    <tr>\n      <th>ap_hi</th>\n      <td>0.003356</td>\n      <td>0.020764</td>\n      <td>0.006005</td>\n      <td>0.005488</td>\n      <td>0.030702</td>\n      <td>1.000000</td>\n      <td>0.016086</td>\n      <td>0.023778</td>\n      <td>0.011841</td>\n      <td>-0.000922</td>\n      <td>0.001408</td>\n      <td>-0.000033</td>\n      <td>0.054475</td>\n    </tr>\n    <tr>\n      <th>ap_lo</th>\n      <td>-0.002529</td>\n      <td>0.017647</td>\n      <td>0.015254</td>\n      <td>0.006150</td>\n      <td>0.043710</td>\n      <td>0.016086</td>\n      <td>1.000000</td>\n      <td>0.024019</td>\n      <td>0.010806</td>\n      <td>0.005186</td>\n      <td>0.010601</td>\n      <td>0.004780</td>\n      <td>0.065719</td>\n    </tr>\n    <tr>\n      <th>cholesterol</th>\n      <td>0.006106</td>\n      <td>0.154424</td>\n      <td>-0.035821</td>\n      <td>-0.050226</td>\n      <td>0.141768</td>\n      <td>0.023778</td>\n      <td>0.024019</td>\n      <td>1.000000</td>\n      <td>0.451578</td>\n      <td>0.010354</td>\n      <td>0.035760</td>\n      <td>0.009911</td>\n      <td>0.221147</td>\n    </tr>\n    <tr>\n      <th>gluc</th>\n      <td>0.002467</td>\n      <td>0.098703</td>\n      <td>-0.020491</td>\n      <td>-0.018595</td>\n      <td>0.106857</td>\n      <td>0.011841</td>\n      <td>0.010806</td>\n      <td>0.451578</td>\n      <td>1.000000</td>\n      <td>-0.004756</td>\n      <td>0.011246</td>\n      <td>-0.006770</td>\n      <td>0.089307</td>\n    </tr>\n    <tr>\n      <th>smoke</th>\n      <td>-0.003699</td>\n      <td>-0.047633</td>\n      <td>0.338135</td>\n      <td>0.187989</td>\n      <td>0.067780</td>\n      <td>-0.000922</td>\n      <td>0.005186</td>\n      <td>0.010354</td>\n      <td>-0.004756</td>\n      <td>1.000000</td>\n      <td>0.340094</td>\n      <td>0.025858</td>\n      <td>-0.015486</td>\n    </tr>\n    <tr>\n      <th>alco</th>\n      <td>0.001210</td>\n      <td>-0.029723</td>\n      <td>0.170966</td>\n      <td>0.094419</td>\n      <td>0.067113</td>\n      <td>0.001408</td>\n      <td>0.010601</td>\n      <td>0.035760</td>\n      <td>0.011246</td>\n      <td>0.340094</td>\n      <td>1.000000</td>\n      <td>0.025476</td>\n      <td>-0.007330</td>\n    </tr>\n    <tr>\n      <th>active</th>\n      <td>0.003755</td>\n      <td>-0.009927</td>\n      <td>0.005866</td>\n      <td>-0.006570</td>\n      <td>-0.016867</td>\n      <td>-0.000033</td>\n      <td>0.004780</td>\n      <td>0.009911</td>\n      <td>-0.006770</td>\n      <td>0.025858</td>\n      <td>0.025476</td>\n      <td>1.000000</td>\n      <td>-0.035653</td>\n    </tr>\n    <tr>\n      <th>cardio</th>\n      <td>0.003799</td>\n      <td>0.238159</td>\n      <td>0.008109</td>\n      <td>-0.010821</td>\n      <td>0.181660</td>\n      <td>0.054475</td>\n      <td>0.065719</td>\n      <td>0.221147</td>\n      <td>0.089307</td>\n      <td>-0.015486</td>\n      <td>-0.007330</td>\n      <td>-0.035653</td>\n      <td>1.000000</td>\n    </tr>\n  </tbody>\n</table>\n</div>"
     },
     "execution_count": 9,
     "metadata": {},
     "output_type": "execute_result"
    }
   ],
   "source": [
    "df.corr()\n"
   ],
   "metadata": {
    "collapsed": false,
    "pycharm": {
     "name": "#%%\n"
    }
   }
  },
  {
   "cell_type": "code",
   "execution_count": 12,
   "outputs": [
    {
     "data": {
      "text/plain": "         age  gender  height  weight  ap_hi  ap_lo  cholesterol  gluc  smoke  \\\n0      18393       2     168    62.0    110     80            1     1      0   \n1      20228       1     156    85.0    140     90            3     1      0   \n2      18857       1     165    64.0    130     70            3     1      0   \n3      17623       2     169    82.0    150    100            1     1      0   \n4      17474       1     156    56.0    100     60            1     1      0   \n...      ...     ...     ...     ...    ...    ...          ...   ...    ...   \n69995  19240       2     168    76.0    120     80            1     1      1   \n69996  22601       1     158   126.0    140     90            2     2      0   \n69997  19066       2     183   105.0    180     90            3     1      0   \n69998  22431       1     163    72.0    135     80            1     2      0   \n69999  20540       1     170    72.0    120     80            2     1      0   \n\n       alco  active  cardio  \n0         0       1       0  \n1         0       1       1  \n2         0       0       1  \n3         0       1       1  \n4         0       0       0  \n...     ...     ...     ...  \n69995     0       1       0  \n69996     0       1       1  \n69997     1       0       1  \n69998     0       0       1  \n69999     0       1       0  \n\n[70000 rows x 12 columns]",
      "text/html": "<div>\n<style scoped>\n    .dataframe tbody tr th:only-of-type {\n        vertical-align: middle;\n    }\n\n    .dataframe tbody tr th {\n        vertical-align: top;\n    }\n\n    .dataframe thead th {\n        text-align: right;\n    }\n</style>\n<table border=\"1\" class=\"dataframe\">\n  <thead>\n    <tr style=\"text-align: right;\">\n      <th></th>\n      <th>age</th>\n      <th>gender</th>\n      <th>height</th>\n      <th>weight</th>\n      <th>ap_hi</th>\n      <th>ap_lo</th>\n      <th>cholesterol</th>\n      <th>gluc</th>\n      <th>smoke</th>\n      <th>alco</th>\n      <th>active</th>\n      <th>cardio</th>\n    </tr>\n  </thead>\n  <tbody>\n    <tr>\n      <th>0</th>\n      <td>18393</td>\n      <td>2</td>\n      <td>168</td>\n      <td>62.0</td>\n      <td>110</td>\n      <td>80</td>\n      <td>1</td>\n      <td>1</td>\n      <td>0</td>\n      <td>0</td>\n      <td>1</td>\n      <td>0</td>\n    </tr>\n    <tr>\n      <th>1</th>\n      <td>20228</td>\n      <td>1</td>\n      <td>156</td>\n      <td>85.0</td>\n      <td>140</td>\n      <td>90</td>\n      <td>3</td>\n      <td>1</td>\n      <td>0</td>\n      <td>0</td>\n      <td>1</td>\n      <td>1</td>\n    </tr>\n    <tr>\n      <th>2</th>\n      <td>18857</td>\n      <td>1</td>\n      <td>165</td>\n      <td>64.0</td>\n      <td>130</td>\n      <td>70</td>\n      <td>3</td>\n      <td>1</td>\n      <td>0</td>\n      <td>0</td>\n      <td>0</td>\n      <td>1</td>\n    </tr>\n    <tr>\n      <th>3</th>\n      <td>17623</td>\n      <td>2</td>\n      <td>169</td>\n      <td>82.0</td>\n      <td>150</td>\n      <td>100</td>\n      <td>1</td>\n      <td>1</td>\n      <td>0</td>\n      <td>0</td>\n      <td>1</td>\n      <td>1</td>\n    </tr>\n    <tr>\n      <th>4</th>\n      <td>17474</td>\n      <td>1</td>\n      <td>156</td>\n      <td>56.0</td>\n      <td>100</td>\n      <td>60</td>\n      <td>1</td>\n      <td>1</td>\n      <td>0</td>\n      <td>0</td>\n      <td>0</td>\n      <td>0</td>\n    </tr>\n    <tr>\n      <th>...</th>\n      <td>...</td>\n      <td>...</td>\n      <td>...</td>\n      <td>...</td>\n      <td>...</td>\n      <td>...</td>\n      <td>...</td>\n      <td>...</td>\n      <td>...</td>\n      <td>...</td>\n      <td>...</td>\n      <td>...</td>\n    </tr>\n    <tr>\n      <th>69995</th>\n      <td>19240</td>\n      <td>2</td>\n      <td>168</td>\n      <td>76.0</td>\n      <td>120</td>\n      <td>80</td>\n      <td>1</td>\n      <td>1</td>\n      <td>1</td>\n      <td>0</td>\n      <td>1</td>\n      <td>0</td>\n    </tr>\n    <tr>\n      <th>69996</th>\n      <td>22601</td>\n      <td>1</td>\n      <td>158</td>\n      <td>126.0</td>\n      <td>140</td>\n      <td>90</td>\n      <td>2</td>\n      <td>2</td>\n      <td>0</td>\n      <td>0</td>\n      <td>1</td>\n      <td>1</td>\n    </tr>\n    <tr>\n      <th>69997</th>\n      <td>19066</td>\n      <td>2</td>\n      <td>183</td>\n      <td>105.0</td>\n      <td>180</td>\n      <td>90</td>\n      <td>3</td>\n      <td>1</td>\n      <td>0</td>\n      <td>1</td>\n      <td>0</td>\n      <td>1</td>\n    </tr>\n    <tr>\n      <th>69998</th>\n      <td>22431</td>\n      <td>1</td>\n      <td>163</td>\n      <td>72.0</td>\n      <td>135</td>\n      <td>80</td>\n      <td>1</td>\n      <td>2</td>\n      <td>0</td>\n      <td>0</td>\n      <td>0</td>\n      <td>1</td>\n    </tr>\n    <tr>\n      <th>69999</th>\n      <td>20540</td>\n      <td>1</td>\n      <td>170</td>\n      <td>72.0</td>\n      <td>120</td>\n      <td>80</td>\n      <td>2</td>\n      <td>1</td>\n      <td>0</td>\n      <td>0</td>\n      <td>1</td>\n      <td>0</td>\n    </tr>\n  </tbody>\n</table>\n<p>70000 rows × 12 columns</p>\n</div>"
     },
     "execution_count": 12,
     "metadata": {},
     "output_type": "execute_result"
    }
   ],
   "source": [
    "df = df.drop('id',axis=1)\n",
    "df"
   ],
   "metadata": {
    "collapsed": false,
    "pycharm": {
     "name": "#%%\n"
    }
   }
  },
  {
   "cell_type": "code",
   "execution_count": 17,
   "outputs": [
    {
     "data": {
      "text/plain": "         age  gender  height  weight  ap_hi  ap_lo  cholesterol  gluc  smoke  \\\n0      18393       2     168    62.0    110     80            1     1      0   \n1      20228       1     156    85.0    140     90            3     1      0   \n2      18857       1     165    64.0    130     70            3     1      0   \n3      17623       2     169    82.0    150    100            1     1      0   \n4      17474       1     156    56.0    100     60            1     1      0   \n...      ...     ...     ...     ...    ...    ...          ...   ...    ...   \n69995  19240       2     168    76.0    120     80            1     1      1   \n69996  22601       1     158   126.0    140     90            2     2      0   \n69997  19066       2     183   105.0    180     90            3     1      0   \n69998  22431       1     163    72.0    135     80            1     2      0   \n69999  20540       1     170    72.0    120     80            2     1      0   \n\n       alco  active  \n0         0       1  \n1         0       1  \n2         0       0  \n3         0       1  \n4         0       0  \n...     ...     ...  \n69995     0       1  \n69996     0       1  \n69997     1       0  \n69998     0       0  \n69999     0       1  \n\n[70000 rows x 11 columns]",
      "text/html": "<div>\n<style scoped>\n    .dataframe tbody tr th:only-of-type {\n        vertical-align: middle;\n    }\n\n    .dataframe tbody tr th {\n        vertical-align: top;\n    }\n\n    .dataframe thead th {\n        text-align: right;\n    }\n</style>\n<table border=\"1\" class=\"dataframe\">\n  <thead>\n    <tr style=\"text-align: right;\">\n      <th></th>\n      <th>age</th>\n      <th>gender</th>\n      <th>height</th>\n      <th>weight</th>\n      <th>ap_hi</th>\n      <th>ap_lo</th>\n      <th>cholesterol</th>\n      <th>gluc</th>\n      <th>smoke</th>\n      <th>alco</th>\n      <th>active</th>\n    </tr>\n  </thead>\n  <tbody>\n    <tr>\n      <th>0</th>\n      <td>18393</td>\n      <td>2</td>\n      <td>168</td>\n      <td>62.0</td>\n      <td>110</td>\n      <td>80</td>\n      <td>1</td>\n      <td>1</td>\n      <td>0</td>\n      <td>0</td>\n      <td>1</td>\n    </tr>\n    <tr>\n      <th>1</th>\n      <td>20228</td>\n      <td>1</td>\n      <td>156</td>\n      <td>85.0</td>\n      <td>140</td>\n      <td>90</td>\n      <td>3</td>\n      <td>1</td>\n      <td>0</td>\n      <td>0</td>\n      <td>1</td>\n    </tr>\n    <tr>\n      <th>2</th>\n      <td>18857</td>\n      <td>1</td>\n      <td>165</td>\n      <td>64.0</td>\n      <td>130</td>\n      <td>70</td>\n      <td>3</td>\n      <td>1</td>\n      <td>0</td>\n      <td>0</td>\n      <td>0</td>\n    </tr>\n    <tr>\n      <th>3</th>\n      <td>17623</td>\n      <td>2</td>\n      <td>169</td>\n      <td>82.0</td>\n      <td>150</td>\n      <td>100</td>\n      <td>1</td>\n      <td>1</td>\n      <td>0</td>\n      <td>0</td>\n      <td>1</td>\n    </tr>\n    <tr>\n      <th>4</th>\n      <td>17474</td>\n      <td>1</td>\n      <td>156</td>\n      <td>56.0</td>\n      <td>100</td>\n      <td>60</td>\n      <td>1</td>\n      <td>1</td>\n      <td>0</td>\n      <td>0</td>\n      <td>0</td>\n    </tr>\n    <tr>\n      <th>...</th>\n      <td>...</td>\n      <td>...</td>\n      <td>...</td>\n      <td>...</td>\n      <td>...</td>\n      <td>...</td>\n      <td>...</td>\n      <td>...</td>\n      <td>...</td>\n      <td>...</td>\n      <td>...</td>\n    </tr>\n    <tr>\n      <th>69995</th>\n      <td>19240</td>\n      <td>2</td>\n      <td>168</td>\n      <td>76.0</td>\n      <td>120</td>\n      <td>80</td>\n      <td>1</td>\n      <td>1</td>\n      <td>1</td>\n      <td>0</td>\n      <td>1</td>\n    </tr>\n    <tr>\n      <th>69996</th>\n      <td>22601</td>\n      <td>1</td>\n      <td>158</td>\n      <td>126.0</td>\n      <td>140</td>\n      <td>90</td>\n      <td>2</td>\n      <td>2</td>\n      <td>0</td>\n      <td>0</td>\n      <td>1</td>\n    </tr>\n    <tr>\n      <th>69997</th>\n      <td>19066</td>\n      <td>2</td>\n      <td>183</td>\n      <td>105.0</td>\n      <td>180</td>\n      <td>90</td>\n      <td>3</td>\n      <td>1</td>\n      <td>0</td>\n      <td>1</td>\n      <td>0</td>\n    </tr>\n    <tr>\n      <th>69998</th>\n      <td>22431</td>\n      <td>1</td>\n      <td>163</td>\n      <td>72.0</td>\n      <td>135</td>\n      <td>80</td>\n      <td>1</td>\n      <td>2</td>\n      <td>0</td>\n      <td>0</td>\n      <td>0</td>\n    </tr>\n    <tr>\n      <th>69999</th>\n      <td>20540</td>\n      <td>1</td>\n      <td>170</td>\n      <td>72.0</td>\n      <td>120</td>\n      <td>80</td>\n      <td>2</td>\n      <td>1</td>\n      <td>0</td>\n      <td>0</td>\n      <td>1</td>\n    </tr>\n  </tbody>\n</table>\n<p>70000 rows × 11 columns</p>\n</div>"
     },
     "execution_count": 17,
     "metadata": {},
     "output_type": "execute_result"
    }
   ],
   "source": [
    "features = df.iloc[:,:-1]\n",
    "features"
   ],
   "metadata": {
    "collapsed": false,
    "pycharm": {
     "name": "#%%\n"
    }
   }
  },
  {
   "cell_type": "code",
   "execution_count": 19,
   "outputs": [
    {
     "data": {
      "text/plain": "0        0\n1        1\n2        1\n3        1\n4        0\n        ..\n69995    0\n69996    1\n69997    1\n69998    1\n69999    0\nName: cardio, Length: 70000, dtype: int64"
     },
     "execution_count": 19,
     "metadata": {},
     "output_type": "execute_result"
    }
   ],
   "source": [
    "label = df.iloc[:,11]\n",
    "label"
   ],
   "metadata": {
    "collapsed": false,
    "pycharm": {
     "name": "#%%\n"
    }
   }
  },
  {
   "cell_type": "code",
   "execution_count": 20,
   "outputs": [
    {
     "data": {
      "text/plain": "         age  gender  height  weight  ap_hi  ap_lo  cholesterol  gluc  smoke  \\\n23561  16136       2     169    71.0    100     80            1     1      1   \n34858  14615       1     158    69.0    140     80            2     1      0   \n54953  20507       1     164    65.0    120     80            1     1      0   \n59230  16720       1     153    53.0    100     60            1     1      0   \n1730   21050       1     159    71.0    140     90            1     1      0   \n...      ...     ...     ...     ...    ...    ...          ...   ...    ...   \n49100  21289       2     175    78.0    120     80            1     1      0   \n20609  19116       1     164    68.0    120     80            1     1      0   \n21440  18049       2     178    82.0    120     80            1     1      0   \n50057  21957       1     169    77.0    120     80            1     1      0   \n5192   20671       1     174    65.0    160     90            2     2      0   \n\n       alco  active  \n23561     0       1  \n34858     0       1  \n54953     0       1  \n59230     0       1  \n1730      0       1  \n...     ...     ...  \n49100     0       1  \n20609     0       0  \n21440     0       1  \n50057     0       0  \n5192      0       1  \n\n[49000 rows x 11 columns]",
      "text/html": "<div>\n<style scoped>\n    .dataframe tbody tr th:only-of-type {\n        vertical-align: middle;\n    }\n\n    .dataframe tbody tr th {\n        vertical-align: top;\n    }\n\n    .dataframe thead th {\n        text-align: right;\n    }\n</style>\n<table border=\"1\" class=\"dataframe\">\n  <thead>\n    <tr style=\"text-align: right;\">\n      <th></th>\n      <th>age</th>\n      <th>gender</th>\n      <th>height</th>\n      <th>weight</th>\n      <th>ap_hi</th>\n      <th>ap_lo</th>\n      <th>cholesterol</th>\n      <th>gluc</th>\n      <th>smoke</th>\n      <th>alco</th>\n      <th>active</th>\n    </tr>\n  </thead>\n  <tbody>\n    <tr>\n      <th>23561</th>\n      <td>16136</td>\n      <td>2</td>\n      <td>169</td>\n      <td>71.0</td>\n      <td>100</td>\n      <td>80</td>\n      <td>1</td>\n      <td>1</td>\n      <td>1</td>\n      <td>0</td>\n      <td>1</td>\n    </tr>\n    <tr>\n      <th>34858</th>\n      <td>14615</td>\n      <td>1</td>\n      <td>158</td>\n      <td>69.0</td>\n      <td>140</td>\n      <td>80</td>\n      <td>2</td>\n      <td>1</td>\n      <td>0</td>\n      <td>0</td>\n      <td>1</td>\n    </tr>\n    <tr>\n      <th>54953</th>\n      <td>20507</td>\n      <td>1</td>\n      <td>164</td>\n      <td>65.0</td>\n      <td>120</td>\n      <td>80</td>\n      <td>1</td>\n      <td>1</td>\n      <td>0</td>\n      <td>0</td>\n      <td>1</td>\n    </tr>\n    <tr>\n      <th>59230</th>\n      <td>16720</td>\n      <td>1</td>\n      <td>153</td>\n      <td>53.0</td>\n      <td>100</td>\n      <td>60</td>\n      <td>1</td>\n      <td>1</td>\n      <td>0</td>\n      <td>0</td>\n      <td>1</td>\n    </tr>\n    <tr>\n      <th>1730</th>\n      <td>21050</td>\n      <td>1</td>\n      <td>159</td>\n      <td>71.0</td>\n      <td>140</td>\n      <td>90</td>\n      <td>1</td>\n      <td>1</td>\n      <td>0</td>\n      <td>0</td>\n      <td>1</td>\n    </tr>\n    <tr>\n      <th>...</th>\n      <td>...</td>\n      <td>...</td>\n      <td>...</td>\n      <td>...</td>\n      <td>...</td>\n      <td>...</td>\n      <td>...</td>\n      <td>...</td>\n      <td>...</td>\n      <td>...</td>\n      <td>...</td>\n    </tr>\n    <tr>\n      <th>49100</th>\n      <td>21289</td>\n      <td>2</td>\n      <td>175</td>\n      <td>78.0</td>\n      <td>120</td>\n      <td>80</td>\n      <td>1</td>\n      <td>1</td>\n      <td>0</td>\n      <td>0</td>\n      <td>1</td>\n    </tr>\n    <tr>\n      <th>20609</th>\n      <td>19116</td>\n      <td>1</td>\n      <td>164</td>\n      <td>68.0</td>\n      <td>120</td>\n      <td>80</td>\n      <td>1</td>\n      <td>1</td>\n      <td>0</td>\n      <td>0</td>\n      <td>0</td>\n    </tr>\n    <tr>\n      <th>21440</th>\n      <td>18049</td>\n      <td>2</td>\n      <td>178</td>\n      <td>82.0</td>\n      <td>120</td>\n      <td>80</td>\n      <td>1</td>\n      <td>1</td>\n      <td>0</td>\n      <td>0</td>\n      <td>1</td>\n    </tr>\n    <tr>\n      <th>50057</th>\n      <td>21957</td>\n      <td>1</td>\n      <td>169</td>\n      <td>77.0</td>\n      <td>120</td>\n      <td>80</td>\n      <td>1</td>\n      <td>1</td>\n      <td>0</td>\n      <td>0</td>\n      <td>0</td>\n    </tr>\n    <tr>\n      <th>5192</th>\n      <td>20671</td>\n      <td>1</td>\n      <td>174</td>\n      <td>65.0</td>\n      <td>160</td>\n      <td>90</td>\n      <td>2</td>\n      <td>2</td>\n      <td>0</td>\n      <td>0</td>\n      <td>1</td>\n    </tr>\n  </tbody>\n</table>\n<p>49000 rows × 11 columns</p>\n</div>"
     },
     "execution_count": 20,
     "metadata": {},
     "output_type": "execute_result"
    }
   ],
   "source": [
    "xtrain,xtest,ytrain,ytest = train_test_split(features,label,test_size=0.3,random_state=1)\n",
    "xtrain\n"
   ],
   "metadata": {
    "collapsed": false,
    "pycharm": {
     "name": "#%%\n"
    }
   }
  },
  {
   "cell_type": "code",
   "execution_count": 21,
   "outputs": [
    {
     "data": {
      "text/plain": "         age  gender  height  weight  ap_hi  ap_lo  cholesterol  gluc  smoke  \\\n6670   16099       1     153    93.0    140     90            1     1      0   \n49567  14437       1     157    89.0    120     80            1     1      0   \n50796  19839       1     165    66.0    150     90            1     1      0   \n22310  18050       2     176    88.0    160    100            2     2      1   \n54037  16819       2     165    78.0    140     90            1     1      0   \n...      ...     ...     ...     ...    ...    ...          ...   ...    ...   \n15691  18263       1     170    70.0    120     80            1     1      0   \n25200  21081       1     165    60.0    120     70            3     1      0   \n7366   14716       1     170    68.0    100     60            1     1      0   \n56399  21998       1     165    66.0    110     80            1     1      0   \n31206  21103       1     163    64.0    120     80            1     1      0   \n\n       alco  active  \n6670      0       1  \n49567     0       1  \n50796     0       1  \n22310     1       1  \n54037     0       0  \n...     ...     ...  \n15691     0       1  \n25200     0       1  \n7366      0       1  \n56399     0       1  \n31206     0       1  \n\n[21000 rows x 11 columns]",
      "text/html": "<div>\n<style scoped>\n    .dataframe tbody tr th:only-of-type {\n        vertical-align: middle;\n    }\n\n    .dataframe tbody tr th {\n        vertical-align: top;\n    }\n\n    .dataframe thead th {\n        text-align: right;\n    }\n</style>\n<table border=\"1\" class=\"dataframe\">\n  <thead>\n    <tr style=\"text-align: right;\">\n      <th></th>\n      <th>age</th>\n      <th>gender</th>\n      <th>height</th>\n      <th>weight</th>\n      <th>ap_hi</th>\n      <th>ap_lo</th>\n      <th>cholesterol</th>\n      <th>gluc</th>\n      <th>smoke</th>\n      <th>alco</th>\n      <th>active</th>\n    </tr>\n  </thead>\n  <tbody>\n    <tr>\n      <th>6670</th>\n      <td>16099</td>\n      <td>1</td>\n      <td>153</td>\n      <td>93.0</td>\n      <td>140</td>\n      <td>90</td>\n      <td>1</td>\n      <td>1</td>\n      <td>0</td>\n      <td>0</td>\n      <td>1</td>\n    </tr>\n    <tr>\n      <th>49567</th>\n      <td>14437</td>\n      <td>1</td>\n      <td>157</td>\n      <td>89.0</td>\n      <td>120</td>\n      <td>80</td>\n      <td>1</td>\n      <td>1</td>\n      <td>0</td>\n      <td>0</td>\n      <td>1</td>\n    </tr>\n    <tr>\n      <th>50796</th>\n      <td>19839</td>\n      <td>1</td>\n      <td>165</td>\n      <td>66.0</td>\n      <td>150</td>\n      <td>90</td>\n      <td>1</td>\n      <td>1</td>\n      <td>0</td>\n      <td>0</td>\n      <td>1</td>\n    </tr>\n    <tr>\n      <th>22310</th>\n      <td>18050</td>\n      <td>2</td>\n      <td>176</td>\n      <td>88.0</td>\n      <td>160</td>\n      <td>100</td>\n      <td>2</td>\n      <td>2</td>\n      <td>1</td>\n      <td>1</td>\n      <td>1</td>\n    </tr>\n    <tr>\n      <th>54037</th>\n      <td>16819</td>\n      <td>2</td>\n      <td>165</td>\n      <td>78.0</td>\n      <td>140</td>\n      <td>90</td>\n      <td>1</td>\n      <td>1</td>\n      <td>0</td>\n      <td>0</td>\n      <td>0</td>\n    </tr>\n    <tr>\n      <th>...</th>\n      <td>...</td>\n      <td>...</td>\n      <td>...</td>\n      <td>...</td>\n      <td>...</td>\n      <td>...</td>\n      <td>...</td>\n      <td>...</td>\n      <td>...</td>\n      <td>...</td>\n      <td>...</td>\n    </tr>\n    <tr>\n      <th>15691</th>\n      <td>18263</td>\n      <td>1</td>\n      <td>170</td>\n      <td>70.0</td>\n      <td>120</td>\n      <td>80</td>\n      <td>1</td>\n      <td>1</td>\n      <td>0</td>\n      <td>0</td>\n      <td>1</td>\n    </tr>\n    <tr>\n      <th>25200</th>\n      <td>21081</td>\n      <td>1</td>\n      <td>165</td>\n      <td>60.0</td>\n      <td>120</td>\n      <td>70</td>\n      <td>3</td>\n      <td>1</td>\n      <td>0</td>\n      <td>0</td>\n      <td>1</td>\n    </tr>\n    <tr>\n      <th>7366</th>\n      <td>14716</td>\n      <td>1</td>\n      <td>170</td>\n      <td>68.0</td>\n      <td>100</td>\n      <td>60</td>\n      <td>1</td>\n      <td>1</td>\n      <td>0</td>\n      <td>0</td>\n      <td>1</td>\n    </tr>\n    <tr>\n      <th>56399</th>\n      <td>21998</td>\n      <td>1</td>\n      <td>165</td>\n      <td>66.0</td>\n      <td>110</td>\n      <td>80</td>\n      <td>1</td>\n      <td>1</td>\n      <td>0</td>\n      <td>0</td>\n      <td>1</td>\n    </tr>\n    <tr>\n      <th>31206</th>\n      <td>21103</td>\n      <td>1</td>\n      <td>163</td>\n      <td>64.0</td>\n      <td>120</td>\n      <td>80</td>\n      <td>1</td>\n      <td>1</td>\n      <td>0</td>\n      <td>0</td>\n      <td>1</td>\n    </tr>\n  </tbody>\n</table>\n<p>21000 rows × 11 columns</p>\n</div>"
     },
     "execution_count": 21,
     "metadata": {},
     "output_type": "execute_result"
    }
   ],
   "source": [
    "xtest\n"
   ],
   "metadata": {
    "collapsed": false,
    "pycharm": {
     "name": "#%%\n"
    }
   }
  },
  {
   "cell_type": "code",
   "execution_count": 26,
   "outputs": [
    {
     "data": {
      "text/plain": "RandomForestClassifier()"
     },
     "execution_count": 26,
     "metadata": {},
     "output_type": "execute_result"
    }
   ],
   "source": [
    "ran_obj = RandomForestClassifier()\n",
    "ran_obj.fit(xtrain,ytrain)"
   ],
   "metadata": {
    "collapsed": false,
    "pycharm": {
     "name": "#%%\n"
    }
   }
  },
  {
   "cell_type": "code",
   "execution_count": 27,
   "outputs": [
    {
     "data": {
      "text/plain": "0.7173333333333334"
     },
     "execution_count": 27,
     "metadata": {},
     "output_type": "execute_result"
    }
   ],
   "source": [
    "ran_obj.score(xtest,ytest)"
   ],
   "metadata": {
    "collapsed": false,
    "pycharm": {
     "name": "#%%\n"
    }
   }
  },
  {
   "cell_type": "code",
   "execution_count": 30,
   "outputs": [
    {
     "data": {
      "text/plain": "0.6307619047619047"
     },
     "execution_count": 30,
     "metadata": {},
     "output_type": "execute_result"
    }
   ],
   "source": [
    "dtc_obj = DecisionTreeClassifier()\n",
    "dtc_obj.fit(xtrain,ytrain)\n",
    "dtc_obj.score(xtest,ytest)\n"
   ],
   "metadata": {
    "collapsed": false,
    "pycharm": {
     "name": "#%%\n"
    }
   }
  },
  {
   "cell_type": "code",
   "execution_count": 31,
   "outputs": [
    {
     "data": {
      "text/plain": "0.6047142857142858"
     },
     "execution_count": 31,
     "metadata": {},
     "output_type": "execute_result"
    }
   ],
   "source": [
    "svc_obj = SVC()\n",
    "svc_obj.fit(xtrain,ytrain)\n",
    "svc_obj.score(xtest,ytest)"
   ],
   "metadata": {
    "collapsed": false,
    "pycharm": {
     "name": "#%%\n"
    }
   }
  },
  {
   "cell_type": "code",
   "execution_count": null,
   "outputs": [],
   "source": [],
   "metadata": {
    "collapsed": false,
    "pycharm": {
     "name": "#%%\n"
    }
   }
  }
 ],
 "metadata": {
  "kernelspec": {
   "display_name": "Python 3",
   "language": "python",
   "name": "python3"
  },
  "language_info": {
   "codemirror_mode": {
    "name": "ipython",
    "version": 2
   },
   "file_extension": ".py",
   "mimetype": "text/x-python",
   "name": "python",
   "nbconvert_exporter": "python",
   "pygments_lexer": "ipython2",
   "version": "2.7.6"
  }
 },
 "nbformat": 4,
 "nbformat_minor": 0
}