{
 "cells": [
  {
   "cell_type": "code",
   "execution_count": 1,
   "metadata": {
    "collapsed": true
   },
   "outputs": [],
   "source": [
    "import pandas as pd\n",
    "from sklearn.preprocessing import LabelEncoder\n",
    "from sklearn.model_selection import train_test_split\n",
    "from sklearn.linear_model import LinearRegression\n",
    "from sklearn.metrics import mean_squared_error"
   ]
  },
  {
   "cell_type": "code",
   "execution_count": 2,
   "outputs": [
    {
     "data": {
      "text/plain": "   id  city  area  rooms  bathroom  parking spaces floor     animal  \\\n0   0     1   240      3         3               4     -      acept   \n1   1     0    64      2         1               1    10      acept   \n2   2     1   443      5         5               4     3      acept   \n3   3     1    73      2         2               1    12      acept   \n4   4     1    19      1         1               0     -  not acept   \n5   5     1    13      1         1               0     2      acept   \n6   6     1    55      1         1               1     2      acept   \n7   7     1    55      2         2               1     2      acept   \n8   8     1    82      3         1               1     3      acept   \n9   9     1    32      1         1               1    16      acept   \n\n       furniture      hoa rent amount property tax fire insurance     total  \n0      furnished      R$0     R$8,000      R$1,000          R$121   R$9,121  \n1  not furnished    R$540       R$820        R$122           R$11   R$1,493  \n2      furnished  R$4,172     R$7,000      R$1,417           R$89  R$12,680  \n3  not furnished    R$700     R$1,250        R$150           R$16   R$2,116  \n4  not furnished      R$0     R$1,200         R$41           R$16   R$1,257  \n5  not furnished      R$0     R$2,200         R$42           R$28   R$2,270  \n6      furnished  R$1,950     R$5,000        R$375           R$64   R$7,389  \n7  not furnished    R$600     R$1,300         R$67           R$17   R$1,984  \n8      furnished    R$828     R$2,000        R$109           R$26   R$2,963  \n9  not furnished    R$533     R$2,900          R$0           R$37   R$3,470  ",
      "text/html": "<div>\n<style scoped>\n    .dataframe tbody tr th:only-of-type {\n        vertical-align: middle;\n    }\n\n    .dataframe tbody tr th {\n        vertical-align: top;\n    }\n\n    .dataframe thead th {\n        text-align: right;\n    }\n</style>\n<table border=\"1\" class=\"dataframe\">\n  <thead>\n    <tr style=\"text-align: right;\">\n      <th></th>\n      <th>id</th>\n      <th>city</th>\n      <th>area</th>\n      <th>rooms</th>\n      <th>bathroom</th>\n      <th>parking spaces</th>\n      <th>floor</th>\n      <th>animal</th>\n      <th>furniture</th>\n      <th>hoa</th>\n      <th>rent amount</th>\n      <th>property tax</th>\n      <th>fire insurance</th>\n      <th>total</th>\n    </tr>\n  </thead>\n  <tbody>\n    <tr>\n      <th>0</th>\n      <td>0</td>\n      <td>1</td>\n      <td>240</td>\n      <td>3</td>\n      <td>3</td>\n      <td>4</td>\n      <td>-</td>\n      <td>acept</td>\n      <td>furnished</td>\n      <td>R$0</td>\n      <td>R$8,000</td>\n      <td>R$1,000</td>\n      <td>R$121</td>\n      <td>R$9,121</td>\n    </tr>\n    <tr>\n      <th>1</th>\n      <td>1</td>\n      <td>0</td>\n      <td>64</td>\n      <td>2</td>\n      <td>1</td>\n      <td>1</td>\n      <td>10</td>\n      <td>acept</td>\n      <td>not furnished</td>\n      <td>R$540</td>\n      <td>R$820</td>\n      <td>R$122</td>\n      <td>R$11</td>\n      <td>R$1,493</td>\n    </tr>\n    <tr>\n      <th>2</th>\n      <td>2</td>\n      <td>1</td>\n      <td>443</td>\n      <td>5</td>\n      <td>5</td>\n      <td>4</td>\n      <td>3</td>\n      <td>acept</td>\n      <td>furnished</td>\n      <td>R$4,172</td>\n      <td>R$7,000</td>\n      <td>R$1,417</td>\n      <td>R$89</td>\n      <td>R$12,680</td>\n    </tr>\n    <tr>\n      <th>3</th>\n      <td>3</td>\n      <td>1</td>\n      <td>73</td>\n      <td>2</td>\n      <td>2</td>\n      <td>1</td>\n      <td>12</td>\n      <td>acept</td>\n      <td>not furnished</td>\n      <td>R$700</td>\n      <td>R$1,250</td>\n      <td>R$150</td>\n      <td>R$16</td>\n      <td>R$2,116</td>\n    </tr>\n    <tr>\n      <th>4</th>\n      <td>4</td>\n      <td>1</td>\n      <td>19</td>\n      <td>1</td>\n      <td>1</td>\n      <td>0</td>\n      <td>-</td>\n      <td>not acept</td>\n      <td>not furnished</td>\n      <td>R$0</td>\n      <td>R$1,200</td>\n      <td>R$41</td>\n      <td>R$16</td>\n      <td>R$1,257</td>\n    </tr>\n    <tr>\n      <th>5</th>\n      <td>5</td>\n      <td>1</td>\n      <td>13</td>\n      <td>1</td>\n      <td>1</td>\n      <td>0</td>\n      <td>2</td>\n      <td>acept</td>\n      <td>not furnished</td>\n      <td>R$0</td>\n      <td>R$2,200</td>\n      <td>R$42</td>\n      <td>R$28</td>\n      <td>R$2,270</td>\n    </tr>\n    <tr>\n      <th>6</th>\n      <td>6</td>\n      <td>1</td>\n      <td>55</td>\n      <td>1</td>\n      <td>1</td>\n      <td>1</td>\n      <td>2</td>\n      <td>acept</td>\n      <td>furnished</td>\n      <td>R$1,950</td>\n      <td>R$5,000</td>\n      <td>R$375</td>\n      <td>R$64</td>\n      <td>R$7,389</td>\n    </tr>\n    <tr>\n      <th>7</th>\n      <td>7</td>\n      <td>1</td>\n      <td>55</td>\n      <td>2</td>\n      <td>2</td>\n      <td>1</td>\n      <td>2</td>\n      <td>acept</td>\n      <td>not furnished</td>\n      <td>R$600</td>\n      <td>R$1,300</td>\n      <td>R$67</td>\n      <td>R$17</td>\n      <td>R$1,984</td>\n    </tr>\n    <tr>\n      <th>8</th>\n      <td>8</td>\n      <td>1</td>\n      <td>82</td>\n      <td>3</td>\n      <td>1</td>\n      <td>1</td>\n      <td>3</td>\n      <td>acept</td>\n      <td>furnished</td>\n      <td>R$828</td>\n      <td>R$2,000</td>\n      <td>R$109</td>\n      <td>R$26</td>\n      <td>R$2,963</td>\n    </tr>\n    <tr>\n      <th>9</th>\n      <td>9</td>\n      <td>1</td>\n      <td>32</td>\n      <td>1</td>\n      <td>1</td>\n      <td>1</td>\n      <td>16</td>\n      <td>acept</td>\n      <td>not furnished</td>\n      <td>R$533</td>\n      <td>R$2,900</td>\n      <td>R$0</td>\n      <td>R$37</td>\n      <td>R$3,470</td>\n    </tr>\n  </tbody>\n</table>\n</div>"
     },
     "execution_count": 2,
     "metadata": {},
     "output_type": "execute_result"
    }
   ],
   "source": [
    "# Load the csv file\n",
    "# df = pd.read_csv(\"Linear_Regression_multiple_variable2.csv\")\n",
    "df = pd.read_csv(\"D:\\\\MACHINE LEARNING\\\\Machine Learning\\\\CSV FILE\\\\Linear_Regression_multiple_variable2.csv\")\n",
    "df.head(10)"
   ],
   "metadata": {
    "collapsed": false,
    "pycharm": {
     "name": "#%%\n"
    }
   }
  },
  {
   "cell_type": "code",
   "execution_count": 3,
   "outputs": [
    {
     "name": "stdout",
     "output_type": "stream",
     "text": [
      "<class 'pandas.core.frame.DataFrame'>\n",
      "RangeIndex: 6080 entries, 0 to 6079\n",
      "Data columns (total 14 columns):\n",
      " #   Column          Non-Null Count  Dtype \n",
      "---  ------          --------------  ----- \n",
      " 0   id              6080 non-null   int64 \n",
      " 1   city            6080 non-null   int64 \n",
      " 2   area            6080 non-null   int64 \n",
      " 3   rooms           6080 non-null   int64 \n",
      " 4   bathroom        6080 non-null   int64 \n",
      " 5   parking spaces  6080 non-null   int64 \n",
      " 6   floor           6080 non-null   object\n",
      " 7   animal          6080 non-null   object\n",
      " 8   furniture       6080 non-null   object\n",
      " 9   hoa             6080 non-null   object\n",
      " 10  rent amount     6080 non-null   object\n",
      " 11  property tax    6080 non-null   object\n",
      " 12  fire insurance  6080 non-null   object\n",
      " 13  total           6080 non-null   object\n",
      "dtypes: int64(6), object(8)\n",
      "memory usage: 665.1+ KB\n"
     ]
    }
   ],
   "source": [
    "df.info()"
   ],
   "metadata": {
    "collapsed": false,
    "pycharm": {
     "name": "#%%\n"
    }
   }
  },
  {
   "cell_type": "code",
   "execution_count": 4,
   "outputs": [
    {
     "data": {
      "text/plain": "Index(['id', 'city', 'area', 'rooms', 'bathroom', 'parking spaces', 'floor',\n       'animal', 'furniture', 'hoa', 'rent amount', 'property tax',\n       'fire insurance', 'total'],\n      dtype='object')"
     },
     "execution_count": 4,
     "metadata": {},
     "output_type": "execute_result"
    }
   ],
   "source": [
    "df.columns"
   ],
   "metadata": {
    "collapsed": false,
    "pycharm": {
     "name": "#%%\n"
    }
   }
  },
  {
   "cell_type": "code",
   "execution_count": 5,
   "outputs": [
    {
     "data": {
      "text/plain": "               id         city          area        rooms     bathroom  \\\ncount  6080.00000  6080.000000   6080.000000  6080.000000  6080.000000   \nmean   3039.50000     0.863322    151.143914     2.492599     2.341612   \nstd    1755.28915     0.343535    375.559485     1.129665     1.438860   \nmin       0.00000     0.000000     10.000000     1.000000     1.000000   \n25%    1519.75000     1.000000     58.000000     2.000000     1.000000   \n50%    3039.50000     1.000000    100.000000     3.000000     2.000000   \n75%    4559.25000     1.000000    200.000000     3.000000     3.000000   \nmax    6079.00000     1.000000  24606.000000    10.000000    10.000000   \n\n       parking spaces  \ncount     6080.000000  \nmean         1.756250  \nstd          1.611909  \nmin          0.000000  \n25%          1.000000  \n50%          1.000000  \n75%          2.000000  \nmax         12.000000  ",
      "text/html": "<div>\n<style scoped>\n    .dataframe tbody tr th:only-of-type {\n        vertical-align: middle;\n    }\n\n    .dataframe tbody tr th {\n        vertical-align: top;\n    }\n\n    .dataframe thead th {\n        text-align: right;\n    }\n</style>\n<table border=\"1\" class=\"dataframe\">\n  <thead>\n    <tr style=\"text-align: right;\">\n      <th></th>\n      <th>id</th>\n      <th>city</th>\n      <th>area</th>\n      <th>rooms</th>\n      <th>bathroom</th>\n      <th>parking spaces</th>\n    </tr>\n  </thead>\n  <tbody>\n    <tr>\n      <th>count</th>\n      <td>6080.00000</td>\n      <td>6080.000000</td>\n      <td>6080.000000</td>\n      <td>6080.000000</td>\n      <td>6080.000000</td>\n      <td>6080.000000</td>\n    </tr>\n    <tr>\n      <th>mean</th>\n      <td>3039.50000</td>\n      <td>0.863322</td>\n      <td>151.143914</td>\n      <td>2.492599</td>\n      <td>2.341612</td>\n      <td>1.756250</td>\n    </tr>\n    <tr>\n      <th>std</th>\n      <td>1755.28915</td>\n      <td>0.343535</td>\n      <td>375.559485</td>\n      <td>1.129665</td>\n      <td>1.438860</td>\n      <td>1.611909</td>\n    </tr>\n    <tr>\n      <th>min</th>\n      <td>0.00000</td>\n      <td>0.000000</td>\n      <td>10.000000</td>\n      <td>1.000000</td>\n      <td>1.000000</td>\n      <td>0.000000</td>\n    </tr>\n    <tr>\n      <th>25%</th>\n      <td>1519.75000</td>\n      <td>1.000000</td>\n      <td>58.000000</td>\n      <td>2.000000</td>\n      <td>1.000000</td>\n      <td>1.000000</td>\n    </tr>\n    <tr>\n      <th>50%</th>\n      <td>3039.50000</td>\n      <td>1.000000</td>\n      <td>100.000000</td>\n      <td>3.000000</td>\n      <td>2.000000</td>\n      <td>1.000000</td>\n    </tr>\n    <tr>\n      <th>75%</th>\n      <td>4559.25000</td>\n      <td>1.000000</td>\n      <td>200.000000</td>\n      <td>3.000000</td>\n      <td>3.000000</td>\n      <td>2.000000</td>\n    </tr>\n    <tr>\n      <th>max</th>\n      <td>6079.00000</td>\n      <td>1.000000</td>\n      <td>24606.000000</td>\n      <td>10.000000</td>\n      <td>10.000000</td>\n      <td>12.000000</td>\n    </tr>\n  </tbody>\n</table>\n</div>"
     },
     "execution_count": 5,
     "metadata": {},
     "output_type": "execute_result"
    }
   ],
   "source": [
    "df.describe()"
   ],
   "metadata": {
    "collapsed": false,
    "pycharm": {
     "name": "#%%\n"
    }
   }
  },
  {
   "cell_type": "code",
   "execution_count": 6,
   "outputs": [
    {
     "data": {
      "text/plain": "   city  area  rooms  bathroom  parking spaces     animal      furniture  \\\n0     1   240      3         3               4      acept      furnished   \n1     0    64      2         1               1      acept  not furnished   \n2     1   443      5         5               4      acept      furnished   \n3     1    73      2         2               1      acept  not furnished   \n4     1    19      1         1               0  not acept  not furnished   \n\n  rent amount fire insurance     total  \n0     R$8,000          R$121   R$9,121  \n1       R$820           R$11   R$1,493  \n2     R$7,000           R$89  R$12,680  \n3     R$1,250           R$16   R$2,116  \n4     R$1,200           R$16   R$1,257  ",
      "text/html": "<div>\n<style scoped>\n    .dataframe tbody tr th:only-of-type {\n        vertical-align: middle;\n    }\n\n    .dataframe tbody tr th {\n        vertical-align: top;\n    }\n\n    .dataframe thead th {\n        text-align: right;\n    }\n</style>\n<table border=\"1\" class=\"dataframe\">\n  <thead>\n    <tr style=\"text-align: right;\">\n      <th></th>\n      <th>city</th>\n      <th>area</th>\n      <th>rooms</th>\n      <th>bathroom</th>\n      <th>parking spaces</th>\n      <th>animal</th>\n      <th>furniture</th>\n      <th>rent amount</th>\n      <th>fire insurance</th>\n      <th>total</th>\n    </tr>\n  </thead>\n  <tbody>\n    <tr>\n      <th>0</th>\n      <td>1</td>\n      <td>240</td>\n      <td>3</td>\n      <td>3</td>\n      <td>4</td>\n      <td>acept</td>\n      <td>furnished</td>\n      <td>R$8,000</td>\n      <td>R$121</td>\n      <td>R$9,121</td>\n    </tr>\n    <tr>\n      <th>1</th>\n      <td>0</td>\n      <td>64</td>\n      <td>2</td>\n      <td>1</td>\n      <td>1</td>\n      <td>acept</td>\n      <td>not furnished</td>\n      <td>R$820</td>\n      <td>R$11</td>\n      <td>R$1,493</td>\n    </tr>\n    <tr>\n      <th>2</th>\n      <td>1</td>\n      <td>443</td>\n      <td>5</td>\n      <td>5</td>\n      <td>4</td>\n      <td>acept</td>\n      <td>furnished</td>\n      <td>R$7,000</td>\n      <td>R$89</td>\n      <td>R$12,680</td>\n    </tr>\n    <tr>\n      <th>3</th>\n      <td>1</td>\n      <td>73</td>\n      <td>2</td>\n      <td>2</td>\n      <td>1</td>\n      <td>acept</td>\n      <td>not furnished</td>\n      <td>R$1,250</td>\n      <td>R$16</td>\n      <td>R$2,116</td>\n    </tr>\n    <tr>\n      <th>4</th>\n      <td>1</td>\n      <td>19</td>\n      <td>1</td>\n      <td>1</td>\n      <td>0</td>\n      <td>not acept</td>\n      <td>not furnished</td>\n      <td>R$1,200</td>\n      <td>R$16</td>\n      <td>R$1,257</td>\n    </tr>\n  </tbody>\n</table>\n</div>"
     },
     "execution_count": 6,
     "metadata": {},
     "output_type": "execute_result"
    }
   ],
   "source": [
    "# some column drop that are unnecessary\n",
    "df.drop(columns=['id','hoa','floor','property tax'],axis=1,inplace=True)\n",
    "df.head()"
   ],
   "metadata": {
    "collapsed": false,
    "pycharm": {
     "name": "#%%\n"
    }
   }
  },
  {
   "cell_type": "code",
   "execution_count": 7,
   "outputs": [
    {
     "data": {
      "text/plain": "   city  area  rooms  bathroom  parking spaces  animal  furniture rent amount  \\\n0     1   240      3         3               4       0          0     R$8,000   \n1     0    64      2         1               1       0          1       R$820   \n2     1   443      5         5               4       0          0     R$7,000   \n3     1    73      2         2               1       0          1     R$1,250   \n4     1    19      1         1               0       1          1     R$1,200   \n\n  fire insurance     total  \n0          R$121   R$9,121  \n1           R$11   R$1,493  \n2           R$89  R$12,680  \n3           R$16   R$2,116  \n4           R$16   R$1,257  ",
      "text/html": "<div>\n<style scoped>\n    .dataframe tbody tr th:only-of-type {\n        vertical-align: middle;\n    }\n\n    .dataframe tbody tr th {\n        vertical-align: top;\n    }\n\n    .dataframe thead th {\n        text-align: right;\n    }\n</style>\n<table border=\"1\" class=\"dataframe\">\n  <thead>\n    <tr style=\"text-align: right;\">\n      <th></th>\n      <th>city</th>\n      <th>area</th>\n      <th>rooms</th>\n      <th>bathroom</th>\n      <th>parking spaces</th>\n      <th>animal</th>\n      <th>furniture</th>\n      <th>rent amount</th>\n      <th>fire insurance</th>\n      <th>total</th>\n    </tr>\n  </thead>\n  <tbody>\n    <tr>\n      <th>0</th>\n      <td>1</td>\n      <td>240</td>\n      <td>3</td>\n      <td>3</td>\n      <td>4</td>\n      <td>0</td>\n      <td>0</td>\n      <td>R$8,000</td>\n      <td>R$121</td>\n      <td>R$9,121</td>\n    </tr>\n    <tr>\n      <th>1</th>\n      <td>0</td>\n      <td>64</td>\n      <td>2</td>\n      <td>1</td>\n      <td>1</td>\n      <td>0</td>\n      <td>1</td>\n      <td>R$820</td>\n      <td>R$11</td>\n      <td>R$1,493</td>\n    </tr>\n    <tr>\n      <th>2</th>\n      <td>1</td>\n      <td>443</td>\n      <td>5</td>\n      <td>5</td>\n      <td>4</td>\n      <td>0</td>\n      <td>0</td>\n      <td>R$7,000</td>\n      <td>R$89</td>\n      <td>R$12,680</td>\n    </tr>\n    <tr>\n      <th>3</th>\n      <td>1</td>\n      <td>73</td>\n      <td>2</td>\n      <td>2</td>\n      <td>1</td>\n      <td>0</td>\n      <td>1</td>\n      <td>R$1,250</td>\n      <td>R$16</td>\n      <td>R$2,116</td>\n    </tr>\n    <tr>\n      <th>4</th>\n      <td>1</td>\n      <td>19</td>\n      <td>1</td>\n      <td>1</td>\n      <td>0</td>\n      <td>1</td>\n      <td>1</td>\n      <td>R$1,200</td>\n      <td>R$16</td>\n      <td>R$1,257</td>\n    </tr>\n  </tbody>\n</table>\n</div>"
     },
     "execution_count": 7,
     "metadata": {},
     "output_type": "execute_result"
    }
   ],
   "source": [
    "# label encoding\n",
    "label_encode = LabelEncoder()\n",
    "df['animal'] = label_encode.fit_transform((df['animal']))\n",
    "df['furniture'] = label_encode.fit_transform((df['furniture']))\n",
    "df.head()"
   ],
   "metadata": {
    "collapsed": false,
    "pycharm": {
     "name": "#%%\n"
    }
   }
  },
  {
   "cell_type": "code",
   "execution_count": 8,
   "outputs": [
    {
     "data": {
      "text/plain": "   city  area  rooms  bathroom  parking spaces  animal  furniture  \\\n0     1   240      3         3               4       0          0   \n1     0    64      2         1               1       0          1   \n2     1   443      5         5               4       0          0   \n3     1    73      2         2               1       0          1   \n4     1    19      1         1               0       1          1   \n\n   rent amount  fire insurance  total  \n0         8000             121   9121  \n1          820              11   1493  \n2         7000              89  12680  \n3         1250              16   2116  \n4         1200              16   1257  ",
      "text/html": "<div>\n<style scoped>\n    .dataframe tbody tr th:only-of-type {\n        vertical-align: middle;\n    }\n\n    .dataframe tbody tr th {\n        vertical-align: top;\n    }\n\n    .dataframe thead th {\n        text-align: right;\n    }\n</style>\n<table border=\"1\" class=\"dataframe\">\n  <thead>\n    <tr style=\"text-align: right;\">\n      <th></th>\n      <th>city</th>\n      <th>area</th>\n      <th>rooms</th>\n      <th>bathroom</th>\n      <th>parking spaces</th>\n      <th>animal</th>\n      <th>furniture</th>\n      <th>rent amount</th>\n      <th>fire insurance</th>\n      <th>total</th>\n    </tr>\n  </thead>\n  <tbody>\n    <tr>\n      <th>0</th>\n      <td>1</td>\n      <td>240</td>\n      <td>3</td>\n      <td>3</td>\n      <td>4</td>\n      <td>0</td>\n      <td>0</td>\n      <td>8000</td>\n      <td>121</td>\n      <td>9121</td>\n    </tr>\n    <tr>\n      <th>1</th>\n      <td>0</td>\n      <td>64</td>\n      <td>2</td>\n      <td>1</td>\n      <td>1</td>\n      <td>0</td>\n      <td>1</td>\n      <td>820</td>\n      <td>11</td>\n      <td>1493</td>\n    </tr>\n    <tr>\n      <th>2</th>\n      <td>1</td>\n      <td>443</td>\n      <td>5</td>\n      <td>5</td>\n      <td>4</td>\n      <td>0</td>\n      <td>0</td>\n      <td>7000</td>\n      <td>89</td>\n      <td>12680</td>\n    </tr>\n    <tr>\n      <th>3</th>\n      <td>1</td>\n      <td>73</td>\n      <td>2</td>\n      <td>2</td>\n      <td>1</td>\n      <td>0</td>\n      <td>1</td>\n      <td>1250</td>\n      <td>16</td>\n      <td>2116</td>\n    </tr>\n    <tr>\n      <th>4</th>\n      <td>1</td>\n      <td>19</td>\n      <td>1</td>\n      <td>1</td>\n      <td>0</td>\n      <td>1</td>\n      <td>1</td>\n      <td>1200</td>\n      <td>16</td>\n      <td>1257</td>\n    </tr>\n  </tbody>\n</table>\n</div>"
     },
     "execution_count": 8,
     "metadata": {},
     "output_type": "execute_result"
    }
   ],
   "source": [
    "# data preprocessing\n",
    "df['rent amount'] = df['rent amount'].map(lambda i: int(i[2:].replace(',','')))\n",
    "df['fire insurance'] = df['fire insurance'].map(lambda i: int(i[2:].replace(',','')))\n",
    "df['total'] = df['total'].map(lambda i: int(i[2:].replace(',','')))\n",
    "df.head()"
   ],
   "metadata": {
    "collapsed": false,
    "pycharm": {
     "name": "#%%\n"
    }
   }
  },
  {
   "cell_type": "code",
   "execution_count": 9,
   "outputs": [
    {
     "data": {
      "text/plain": "      city  area  rooms  bathroom  parking spaces  animal  furniture  \\\n0        1   240      3         3               4       0          0   \n1        0    64      2         1               1       0          1   \n2        1   443      5         5               4       0          0   \n3        1    73      2         2               1       0          1   \n4        1    19      1         1               0       1          1   \n...    ...   ...    ...       ...             ...     ...        ...   \n6075     1    50      2         1               1       0          1   \n6076     1    84      2         2               1       1          0   \n6077     0    48      1         1               0       0          1   \n6078     1   160      3         2               2       1          1   \n6079     1    60      2         1               1       0          0   \n\n      rent amount  fire insurance  \n0            8000             121  \n1             820              11  \n2            7000              89  \n3            1250              16  \n4            1200              16  \n...           ...             ...  \n6075         1150              15  \n6076         2900              37  \n6077          950              13  \n6078         3500              53  \n6079         1900              25  \n\n[6080 rows x 9 columns]",
      "text/html": "<div>\n<style scoped>\n    .dataframe tbody tr th:only-of-type {\n        vertical-align: middle;\n    }\n\n    .dataframe tbody tr th {\n        vertical-align: top;\n    }\n\n    .dataframe thead th {\n        text-align: right;\n    }\n</style>\n<table border=\"1\" class=\"dataframe\">\n  <thead>\n    <tr style=\"text-align: right;\">\n      <th></th>\n      <th>city</th>\n      <th>area</th>\n      <th>rooms</th>\n      <th>bathroom</th>\n      <th>parking spaces</th>\n      <th>animal</th>\n      <th>furniture</th>\n      <th>rent amount</th>\n      <th>fire insurance</th>\n    </tr>\n  </thead>\n  <tbody>\n    <tr>\n      <th>0</th>\n      <td>1</td>\n      <td>240</td>\n      <td>3</td>\n      <td>3</td>\n      <td>4</td>\n      <td>0</td>\n      <td>0</td>\n      <td>8000</td>\n      <td>121</td>\n    </tr>\n    <tr>\n      <th>1</th>\n      <td>0</td>\n      <td>64</td>\n      <td>2</td>\n      <td>1</td>\n      <td>1</td>\n      <td>0</td>\n      <td>1</td>\n      <td>820</td>\n      <td>11</td>\n    </tr>\n    <tr>\n      <th>2</th>\n      <td>1</td>\n      <td>443</td>\n      <td>5</td>\n      <td>5</td>\n      <td>4</td>\n      <td>0</td>\n      <td>0</td>\n      <td>7000</td>\n      <td>89</td>\n    </tr>\n    <tr>\n      <th>3</th>\n      <td>1</td>\n      <td>73</td>\n      <td>2</td>\n      <td>2</td>\n      <td>1</td>\n      <td>0</td>\n      <td>1</td>\n      <td>1250</td>\n      <td>16</td>\n    </tr>\n    <tr>\n      <th>4</th>\n      <td>1</td>\n      <td>19</td>\n      <td>1</td>\n      <td>1</td>\n      <td>0</td>\n      <td>1</td>\n      <td>1</td>\n      <td>1200</td>\n      <td>16</td>\n    </tr>\n    <tr>\n      <th>...</th>\n      <td>...</td>\n      <td>...</td>\n      <td>...</td>\n      <td>...</td>\n      <td>...</td>\n      <td>...</td>\n      <td>...</td>\n      <td>...</td>\n      <td>...</td>\n    </tr>\n    <tr>\n      <th>6075</th>\n      <td>1</td>\n      <td>50</td>\n      <td>2</td>\n      <td>1</td>\n      <td>1</td>\n      <td>0</td>\n      <td>1</td>\n      <td>1150</td>\n      <td>15</td>\n    </tr>\n    <tr>\n      <th>6076</th>\n      <td>1</td>\n      <td>84</td>\n      <td>2</td>\n      <td>2</td>\n      <td>1</td>\n      <td>1</td>\n      <td>0</td>\n      <td>2900</td>\n      <td>37</td>\n    </tr>\n    <tr>\n      <th>6077</th>\n      <td>0</td>\n      <td>48</td>\n      <td>1</td>\n      <td>1</td>\n      <td>0</td>\n      <td>0</td>\n      <td>1</td>\n      <td>950</td>\n      <td>13</td>\n    </tr>\n    <tr>\n      <th>6078</th>\n      <td>1</td>\n      <td>160</td>\n      <td>3</td>\n      <td>2</td>\n      <td>2</td>\n      <td>1</td>\n      <td>1</td>\n      <td>3500</td>\n      <td>53</td>\n    </tr>\n    <tr>\n      <th>6079</th>\n      <td>1</td>\n      <td>60</td>\n      <td>2</td>\n      <td>1</td>\n      <td>1</td>\n      <td>0</td>\n      <td>0</td>\n      <td>1900</td>\n      <td>25</td>\n    </tr>\n  </tbody>\n</table>\n<p>6080 rows × 9 columns</p>\n</div>"
     },
     "execution_count": 9,
     "metadata": {},
     "output_type": "execute_result"
    }
   ],
   "source": [
    "# split featurs and label\n",
    "featurs = df.iloc[:,:-1]\n",
    "featurs"
   ],
   "metadata": {
    "collapsed": false,
    "pycharm": {
     "name": "#%%\n"
    }
   }
  },
  {
   "cell_type": "code",
   "execution_count": 10,
   "outputs": [
    {
     "data": {
      "text/plain": "0        9121\n1        1493\n2       12680\n3        2116\n4        1257\n        ...  \n6075     1585\n6076     3768\n6077     1255\n6078     3803\n6079     2414\nName: total, Length: 6080, dtype: int64"
     },
     "execution_count": 10,
     "metadata": {},
     "output_type": "execute_result"
    }
   ],
   "source": [
    "label = df.iloc[:,-1]\n",
    "label"
   ],
   "metadata": {
    "collapsed": false,
    "pycharm": {
     "name": "#%%\n"
    }
   }
  },
  {
   "cell_type": "code",
   "execution_count": 11,
   "outputs": [
    {
     "data": {
      "text/plain": "      city  area  rooms  bathroom  parking spaces  animal  furniture  \\\n37       1   176      3         4               3       0          1   \n1300     1   100      2         2               1       0          0   \n5318     0   110      3         2               1       0          1   \n4580     1    50      2         1               0       0          1   \n1865     1    43      1         1               0       0          1   \n...    ...   ...    ...       ...             ...     ...        ...   \n905      1    90      2         1               2       0          1   \n5192     1   126      3         4               3       0          1   \n3980     0    74      3         2               2       0          1   \n235      0   209      3         3               2       1          1   \n5157     0   130      3         2               1       0          1   \n\n      rent amount  fire insurance  \n37           6500              83  \n1300         1625               7  \n5318         1200              16  \n4580         1200              19  \n1865         1472               6  \n...           ...             ...  \n905          2000              26  \n5192         4000              51  \n3980         4200              54  \n235          2550              39  \n5157         1300              20  \n\n[4560 rows x 9 columns]",
      "text/html": "<div>\n<style scoped>\n    .dataframe tbody tr th:only-of-type {\n        vertical-align: middle;\n    }\n\n    .dataframe tbody tr th {\n        vertical-align: top;\n    }\n\n    .dataframe thead th {\n        text-align: right;\n    }\n</style>\n<table border=\"1\" class=\"dataframe\">\n  <thead>\n    <tr style=\"text-align: right;\">\n      <th></th>\n      <th>city</th>\n      <th>area</th>\n      <th>rooms</th>\n      <th>bathroom</th>\n      <th>parking spaces</th>\n      <th>animal</th>\n      <th>furniture</th>\n      <th>rent amount</th>\n      <th>fire insurance</th>\n    </tr>\n  </thead>\n  <tbody>\n    <tr>\n      <th>37</th>\n      <td>1</td>\n      <td>176</td>\n      <td>3</td>\n      <td>4</td>\n      <td>3</td>\n      <td>0</td>\n      <td>1</td>\n      <td>6500</td>\n      <td>83</td>\n    </tr>\n    <tr>\n      <th>1300</th>\n      <td>1</td>\n      <td>100</td>\n      <td>2</td>\n      <td>2</td>\n      <td>1</td>\n      <td>0</td>\n      <td>0</td>\n      <td>1625</td>\n      <td>7</td>\n    </tr>\n    <tr>\n      <th>5318</th>\n      <td>0</td>\n      <td>110</td>\n      <td>3</td>\n      <td>2</td>\n      <td>1</td>\n      <td>0</td>\n      <td>1</td>\n      <td>1200</td>\n      <td>16</td>\n    </tr>\n    <tr>\n      <th>4580</th>\n      <td>1</td>\n      <td>50</td>\n      <td>2</td>\n      <td>1</td>\n      <td>0</td>\n      <td>0</td>\n      <td>1</td>\n      <td>1200</td>\n      <td>19</td>\n    </tr>\n    <tr>\n      <th>1865</th>\n      <td>1</td>\n      <td>43</td>\n      <td>1</td>\n      <td>1</td>\n      <td>0</td>\n      <td>0</td>\n      <td>1</td>\n      <td>1472</td>\n      <td>6</td>\n    </tr>\n    <tr>\n      <th>...</th>\n      <td>...</td>\n      <td>...</td>\n      <td>...</td>\n      <td>...</td>\n      <td>...</td>\n      <td>...</td>\n      <td>...</td>\n      <td>...</td>\n      <td>...</td>\n    </tr>\n    <tr>\n      <th>905</th>\n      <td>1</td>\n      <td>90</td>\n      <td>2</td>\n      <td>1</td>\n      <td>2</td>\n      <td>0</td>\n      <td>1</td>\n      <td>2000</td>\n      <td>26</td>\n    </tr>\n    <tr>\n      <th>5192</th>\n      <td>1</td>\n      <td>126</td>\n      <td>3</td>\n      <td>4</td>\n      <td>3</td>\n      <td>0</td>\n      <td>1</td>\n      <td>4000</td>\n      <td>51</td>\n    </tr>\n    <tr>\n      <th>3980</th>\n      <td>0</td>\n      <td>74</td>\n      <td>3</td>\n      <td>2</td>\n      <td>2</td>\n      <td>0</td>\n      <td>1</td>\n      <td>4200</td>\n      <td>54</td>\n    </tr>\n    <tr>\n      <th>235</th>\n      <td>0</td>\n      <td>209</td>\n      <td>3</td>\n      <td>3</td>\n      <td>2</td>\n      <td>1</td>\n      <td>1</td>\n      <td>2550</td>\n      <td>39</td>\n    </tr>\n    <tr>\n      <th>5157</th>\n      <td>0</td>\n      <td>130</td>\n      <td>3</td>\n      <td>2</td>\n      <td>1</td>\n      <td>0</td>\n      <td>1</td>\n      <td>1300</td>\n      <td>20</td>\n    </tr>\n  </tbody>\n</table>\n<p>4560 rows × 9 columns</p>\n</div>"
     },
     "execution_count": 11,
     "metadata": {},
     "output_type": "execute_result"
    }
   ],
   "source": [
    "xtrain,xtest,ytrain,ytest = train_test_split(featurs,label,test_size=0.25,random_state=1)\n",
    "xtrain"
   ],
   "metadata": {
    "collapsed": false,
    "pycharm": {
     "name": "#%%\n"
    }
   }
  },
  {
   "cell_type": "code",
   "execution_count": 12,
   "outputs": [
    {
     "data": {
      "text/plain": "      city  area  rooms  bathroom  parking spaces  animal  furniture  \\\n3206     1   190      3         3               2       0          0   \n4916     1    30      1         1               1       0          0   \n5822     1   380      3         4               2       0          1   \n758      1   210      4         4               3       0          1   \n4899     0    62      2         1               1       0          1   \n...    ...   ...    ...       ...             ...     ...        ...   \n5668     1    50      1         1               0       1          1   \n3812     0   480      3         6               4       0          1   \n3891     1   210      4         4               3       0          0   \n1657     1   220      5         4               3       1          1   \n5994     1    55      2         2               1       1          1   \n\n      rent amount  fire insurance  \n3206        11000             166  \n4916         2389              31  \n5822        12000             181  \n758          4675              60  \n4899         1100              14  \n...           ...             ...  \n5668         1900              25  \n3812         5400              82  \n3891         4700              71  \n1657         8000             121  \n5994         1850              24  \n\n[1520 rows x 9 columns]",
      "text/html": "<div>\n<style scoped>\n    .dataframe tbody tr th:only-of-type {\n        vertical-align: middle;\n    }\n\n    .dataframe tbody tr th {\n        vertical-align: top;\n    }\n\n    .dataframe thead th {\n        text-align: right;\n    }\n</style>\n<table border=\"1\" class=\"dataframe\">\n  <thead>\n    <tr style=\"text-align: right;\">\n      <th></th>\n      <th>city</th>\n      <th>area</th>\n      <th>rooms</th>\n      <th>bathroom</th>\n      <th>parking spaces</th>\n      <th>animal</th>\n      <th>furniture</th>\n      <th>rent amount</th>\n      <th>fire insurance</th>\n    </tr>\n  </thead>\n  <tbody>\n    <tr>\n      <th>3206</th>\n      <td>1</td>\n      <td>190</td>\n      <td>3</td>\n      <td>3</td>\n      <td>2</td>\n      <td>0</td>\n      <td>0</td>\n      <td>11000</td>\n      <td>166</td>\n    </tr>\n    <tr>\n      <th>4916</th>\n      <td>1</td>\n      <td>30</td>\n      <td>1</td>\n      <td>1</td>\n      <td>1</td>\n      <td>0</td>\n      <td>0</td>\n      <td>2389</td>\n      <td>31</td>\n    </tr>\n    <tr>\n      <th>5822</th>\n      <td>1</td>\n      <td>380</td>\n      <td>3</td>\n      <td>4</td>\n      <td>2</td>\n      <td>0</td>\n      <td>1</td>\n      <td>12000</td>\n      <td>181</td>\n    </tr>\n    <tr>\n      <th>758</th>\n      <td>1</td>\n      <td>210</td>\n      <td>4</td>\n      <td>4</td>\n      <td>3</td>\n      <td>0</td>\n      <td>1</td>\n      <td>4675</td>\n      <td>60</td>\n    </tr>\n    <tr>\n      <th>4899</th>\n      <td>0</td>\n      <td>62</td>\n      <td>2</td>\n      <td>1</td>\n      <td>1</td>\n      <td>0</td>\n      <td>1</td>\n      <td>1100</td>\n      <td>14</td>\n    </tr>\n    <tr>\n      <th>...</th>\n      <td>...</td>\n      <td>...</td>\n      <td>...</td>\n      <td>...</td>\n      <td>...</td>\n      <td>...</td>\n      <td>...</td>\n      <td>...</td>\n      <td>...</td>\n    </tr>\n    <tr>\n      <th>5668</th>\n      <td>1</td>\n      <td>50</td>\n      <td>1</td>\n      <td>1</td>\n      <td>0</td>\n      <td>1</td>\n      <td>1</td>\n      <td>1900</td>\n      <td>25</td>\n    </tr>\n    <tr>\n      <th>3812</th>\n      <td>0</td>\n      <td>480</td>\n      <td>3</td>\n      <td>6</td>\n      <td>4</td>\n      <td>0</td>\n      <td>1</td>\n      <td>5400</td>\n      <td>82</td>\n    </tr>\n    <tr>\n      <th>3891</th>\n      <td>1</td>\n      <td>210</td>\n      <td>4</td>\n      <td>4</td>\n      <td>3</td>\n      <td>0</td>\n      <td>0</td>\n      <td>4700</td>\n      <td>71</td>\n    </tr>\n    <tr>\n      <th>1657</th>\n      <td>1</td>\n      <td>220</td>\n      <td>5</td>\n      <td>4</td>\n      <td>3</td>\n      <td>1</td>\n      <td>1</td>\n      <td>8000</td>\n      <td>121</td>\n    </tr>\n    <tr>\n      <th>5994</th>\n      <td>1</td>\n      <td>55</td>\n      <td>2</td>\n      <td>2</td>\n      <td>1</td>\n      <td>1</td>\n      <td>1</td>\n      <td>1850</td>\n      <td>24</td>\n    </tr>\n  </tbody>\n</table>\n<p>1520 rows × 9 columns</p>\n</div>"
     },
     "execution_count": 12,
     "metadata": {},
     "output_type": "execute_result"
    }
   ],
   "source": [
    "xtest"
   ],
   "metadata": {
    "collapsed": false,
    "pycharm": {
     "name": "#%%\n"
    }
   }
  },
  {
   "cell_type": "code",
   "execution_count": 13,
   "outputs": [
    {
     "name": "stdout",
     "output_type": "stream",
     "text": [
      "(4560, 9)\n",
      "(1520, 9)\n"
     ]
    }
   ],
   "source": [
    "print(xtrain.shape)\n",
    "print(xtest.shape)"
   ],
   "metadata": {
    "collapsed": false,
    "pycharm": {
     "name": "#%%\n"
    }
   }
  },
  {
   "cell_type": "code",
   "execution_count": 14,
   "outputs": [
    {
     "data": {
      "text/plain": "LinearRegression()"
     },
     "execution_count": 14,
     "metadata": {},
     "output_type": "execute_result"
    }
   ],
   "source": [
    "model = LinearRegression()\n",
    "model.fit(xtrain,ytrain)"
   ],
   "metadata": {
    "collapsed": false,
    "pycharm": {
     "name": "#%%\n"
    }
   }
  },
  {
   "cell_type": "code",
   "execution_count": 15,
   "outputs": [
    {
     "name": "stdout",
     "output_type": "stream",
     "text": [
      "Accuracy:  93.77 %\n"
     ]
    }
   ],
   "source": [
    "x = model.score(xtest,ytest)\n",
    "print(\"Accuracy: \",round(x*100,ndigits=3),\"%\")"
   ],
   "metadata": {
    "collapsed": false,
    "pycharm": {
     "name": "#%%\n"
    }
   }
  },
  {
   "cell_type": "code",
   "execution_count": 16,
   "outputs": [
    {
     "name": "stdout",
     "output_type": "stream",
     "text": [
      "Intercept:  -858.2805081323049\n",
      "Coefficient:  [ 1.03763947e+02  2.59918618e-01  2.07809222e+02  3.79919945e+02\n",
      " -1.12904973e+02  5.66464227e+02 -1.02313667e+02  2.31863880e+00\n",
      " -7.97756846e+01]\n"
     ]
    }
   ],
   "source": [
    "print(\"Intercept: \",model.intercept_)\n",
    "print(\"Coefficient: \",model.coef_)"
   ],
   "metadata": {
    "collapsed": false,
    "pycharm": {
     "name": "#%%\n"
    }
   }
  },
  {
   "cell_type": "code",
   "execution_count": 17,
   "outputs": [
    {
     "data": {
      "text/plain": "array([13094.50870346,  2794.28706537, 14543.50305114, ...,\n        6545.79685832, 10883.07964145,  3161.34823613])"
     },
     "execution_count": 17,
     "metadata": {},
     "output_type": "execute_result"
    }
   ],
   "source": [
    "y_predict = model.predict(xtest)\n",
    "y_predict"
   ],
   "metadata": {
    "collapsed": false,
    "pycharm": {
     "name": "#%%\n"
    }
   }
  },
  {
   "cell_type": "code",
   "execution_count": 18,
   "outputs": [
    {
     "name": "stdout",
     "output_type": "stream",
     "text": [
      "Mean_squared_error:  1500562.5878116174\n"
     ]
    }
   ],
   "source": [
    "print(\"Mean_squared_error: \",mean_squared_error(ytest,y_predict))"
   ],
   "metadata": {
    "collapsed": false,
    "pycharm": {
     "name": "#%%\n"
    }
   }
  },
  {
   "cell_type": "code",
   "execution_count": 19,
   "outputs": [],
   "source": [
    "# error = []\n",
    "# for i,testVal in enumerate(y_predict):\n",
    "#     error.append(ytest[i]-testVal)\n",
    "#     print(f'Actual: {ytest[i]} Prediction: {int(testVal)} Error: {int(error[i])}')"
   ],
   "metadata": {
    "collapsed": false,
    "pycharm": {
     "name": "#%%\n"
    }
   }
  },
  {
   "cell_type": "code",
   "execution_count": 20,
   "outputs": [
    {
     "data": {
      "text/plain": "array([14037.97982565])"
     },
     "execution_count": 20,
     "metadata": {},
     "output_type": "execute_result"
    }
   ],
   "source": [
    "model.predict([[1,200,4,2,4,0,1,12000,177]])"
   ],
   "metadata": {
    "collapsed": false,
    "pycharm": {
     "name": "#%%\n"
    }
   }
  },
  {
   "cell_type": "code",
   "execution_count": 20,
   "outputs": [],
   "source": [],
   "metadata": {
    "collapsed": false,
    "pycharm": {
     "name": "#%%\n"
    }
   }
  }
 ],
 "metadata": {
  "kernelspec": {
   "display_name": "Python 3",
   "language": "python",
   "name": "python3"
  },
  "language_info": {
   "codemirror_mode": {
    "name": "ipython",
    "version": 2
   },
   "file_extension": ".py",
   "mimetype": "text/x-python",
   "name": "python",
   "nbconvert_exporter": "python",
   "pygments_lexer": "ipython2",
   "version": "2.7.6"
  }
 },
 "nbformat": 4,
 "nbformat_minor": 0
}