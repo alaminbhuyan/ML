{
 "cells": [
  {
   "cell_type": "code",
   "execution_count": 13,
   "metadata": {
    "collapsed": true
   },
   "outputs": [],
   "source": [
    "# Here use Natural Language processing\n",
    "import re\n",
    "import nltk\n",
    "import pandas as pd\n",
    "from nltk.stem import PorterStemmer\n",
    "from nltk.stem import WordNetLemmatizer\n",
    "from nltk.corpus import stopwords\n",
    "from sklearn.feature_extraction.text import CountVectorizer,TfidfVectorizer\n",
    "from sklearn.model_selection import train_test_split\n",
    "from sklearn.naive_bayes import MultinomialNB\n",
    "from sklearn.metrics import confusion_matrix,accuracy_score,classification_report"
   ]
  },
  {
   "cell_type": "code",
   "execution_count": 3,
   "outputs": [
    {
     "data": {
      "text/plain": "  level                                            message\n0   ham  Go until jurong point, crazy.. Available only ...\n1   ham                      Ok lar... Joking wif u oni...\n2  spam  Free entry in 2 a wkly comp to win FA Cup fina...\n3   ham  U dun say so early hor... U c already then say...\n4   ham  Nah I don't think he goes to usf, he lives aro...\n5  spam  FreeMsg Hey there darling it's been 3 week's n...\n6   ham  Even my brother is not like to speak with me. ...\n7   ham  As per your request 'Melle Melle (Oru Minnamin...\n8  spam  WINNER!! As a valued network customer you have...\n9  spam  Had your mobile 11 months or more? U R entitle...",
      "text/html": "<div>\n<style scoped>\n    .dataframe tbody tr th:only-of-type {\n        vertical-align: middle;\n    }\n\n    .dataframe tbody tr th {\n        vertical-align: top;\n    }\n\n    .dataframe thead th {\n        text-align: right;\n    }\n</style>\n<table border=\"1\" class=\"dataframe\">\n  <thead>\n    <tr style=\"text-align: right;\">\n      <th></th>\n      <th>level</th>\n      <th>message</th>\n    </tr>\n  </thead>\n  <tbody>\n    <tr>\n      <th>0</th>\n      <td>ham</td>\n      <td>Go until jurong point, crazy.. Available only ...</td>\n    </tr>\n    <tr>\n      <th>1</th>\n      <td>ham</td>\n      <td>Ok lar... Joking wif u oni...</td>\n    </tr>\n    <tr>\n      <th>2</th>\n      <td>spam</td>\n      <td>Free entry in 2 a wkly comp to win FA Cup fina...</td>\n    </tr>\n    <tr>\n      <th>3</th>\n      <td>ham</td>\n      <td>U dun say so early hor... U c already then say...</td>\n    </tr>\n    <tr>\n      <th>4</th>\n      <td>ham</td>\n      <td>Nah I don't think he goes to usf, he lives aro...</td>\n    </tr>\n    <tr>\n      <th>5</th>\n      <td>spam</td>\n      <td>FreeMsg Hey there darling it's been 3 week's n...</td>\n    </tr>\n    <tr>\n      <th>6</th>\n      <td>ham</td>\n      <td>Even my brother is not like to speak with me. ...</td>\n    </tr>\n    <tr>\n      <th>7</th>\n      <td>ham</td>\n      <td>As per your request 'Melle Melle (Oru Minnamin...</td>\n    </tr>\n    <tr>\n      <th>8</th>\n      <td>spam</td>\n      <td>WINNER!! As a valued network customer you have...</td>\n    </tr>\n    <tr>\n      <th>9</th>\n      <td>spam</td>\n      <td>Had your mobile 11 months or more? U R entitle...</td>\n    </tr>\n  </tbody>\n</table>\n</div>"
     },
     "execution_count": 3,
     "metadata": {},
     "output_type": "execute_result"
    }
   ],
   "source": [
    "df = pd.read_csv(\"D:\\MACHINE LEARNING\\Machine Learning\\CSV FILE\\SMSSpamCollection\",sep=\"\\t\",names=['level','message'])\n",
    "df.head(10)"
   ],
   "metadata": {
    "collapsed": false,
    "pycharm": {
     "name": "#%%\n"
    }
   }
  },
  {
   "cell_type": "code",
   "execution_count": 4,
   "outputs": [],
   "source": [
    "# Data cleaning and preprocessing\n",
    "stemmer = PorterStemmer()\n",
    "lemmatizer = WordNetLemmatizer()\n",
    "corpus = []\n",
    "corpus2 = []\n",
    "# for stemming\n",
    "for i in range(len(df)):\n",
    "    review = re.sub('[^a-zA-Z]',\" \",df['message'][i])\n",
    "    review = review.lower()\n",
    "    review = review.split()\n",
    "    review = [stemmer.stem(word) for word in review if word not in set(stopwords.words(\"english\"))]\n",
    "    review = \" \".join(review)\n",
    "    corpus.append(review)\n",
    "# for lemmatizing\n",
    "for i in range(len(df)):\n",
    "    review2 = re.sub('[^a-zA-Z]',\" \",df['message'][i])\n",
    "    review2 = review2.lower()\n",
    "    review2 = review2.split()\n",
    "    review2 = [lemmatizer.lemmatize(word) for word in review2 if word not in set(stopwords.words(\"english\"))]\n",
    "    review2 = \" \".join(review2)\n",
    "    corpus2.append(review2)"
   ],
   "metadata": {
    "collapsed": false,
    "pycharm": {
     "name": "#%%\n"
    }
   }
  },
  {
   "cell_type": "code",
   "execution_count": 5,
   "outputs": [],
   "source": [
    "# Creating the bag of words model\n",
    "cv = CountVectorizer()\n",
    "X = cv.fit_transform(corpus).toarray()\n",
    "Y = cv.fit_transform(corpus2).toarray()"
   ],
   "metadata": {
    "collapsed": false,
    "pycharm": {
     "name": "#%%\n"
    }
   }
  },
  {
   "cell_type": "code",
   "execution_count": 6,
   "outputs": [],
   "source": [
    "# Creating the bag of words model by tf_idf model\n",
    "tf_idf_vec = TfidfVectorizer()\n",
    "X2 = tf_idf_vec.fit_transform(corpus).toarray()\n",
    "Y2 = tf_idf_vec.fit_transform(corpus2).toarray()"
   ],
   "metadata": {
    "collapsed": false,
    "pycharm": {
     "name": "#%%\n"
    }
   }
  },
  {
   "cell_type": "code",
   "execution_count": 7,
   "outputs": [
    {
     "name": "stdout",
     "output_type": "stream",
     "text": [
      "  (0, 2171)\t1\n",
      "  (0, 2827)\t1\n",
      "  (0, 4091)\t1\n",
      "  (0, 1169)\t1\n",
      "  (0, 379)\t1\n",
      "  (0, 738)\t1\n",
      "  (0, 2245)\t1\n",
      "  (0, 6135)\t1\n",
      "  (0, 2932)\t1\n",
      "  (0, 736)\t1\n",
      "  (0, 964)\t1\n",
      "  (0, 2208)\t1\n",
      "  (0, 190)\t1\n",
      "  (0, 5957)\t1\n",
      "  (1, 3760)\t1\n",
      "  (1, 2960)\t1\n",
      "  (1, 2794)\t1\n",
      "  (1, 6056)\t1\n",
      "  (1, 3785)\t1\n",
      "  (2, 2007)\t1\n",
      "  (2, 1673)\t2\n",
      "  (2, 6101)\t1\n",
      "  (2, 1058)\t1\n",
      "  (2, 6067)\t1\n",
      "  (2, 1791)\t2\n",
      "  :\t:\n",
      "  (5567, 3365)\t1\n",
      "  (5567, 1573)\t1\n",
      "  (5568, 2171)\t1\n",
      "  (5568, 2457)\t1\n",
      "  (5568, 1996)\t1\n",
      "  (5568, 1704)\t1\n",
      "  (5569, 5236)\t1\n",
      "  (5569, 3439)\t1\n",
      "  (5569, 4044)\t1\n",
      "  (5570, 2007)\t1\n",
      "  (5570, 5992)\t1\n",
      "  (5570, 3042)\t1\n",
      "  (5570, 3614)\t1\n",
      "  (5570, 5804)\t1\n",
      "  (5570, 4986)\t1\n",
      "  (5570, 763)\t1\n",
      "  (5570, 1630)\t1\n",
      "  (5570, 2099)\t1\n",
      "  (5570, 2290)\t1\n",
      "  (5570, 2669)\t1\n",
      "  (5570, 52)\t1\n",
      "  (5570, 577)\t1\n",
      "  (5571, 3538)\t1\n",
      "  (5571, 5657)\t1\n",
      "  (5571, 4541)\t1\n",
      "**************************************************\n",
      "  (0, 2472)\t1\n",
      "  (0, 3198)\t1\n",
      "  (0, 4593)\t1\n",
      "  (0, 1337)\t1\n",
      "  (0, 431)\t1\n",
      "  (0, 826)\t1\n",
      "  (0, 2545)\t1\n",
      "  (0, 6935)\t1\n",
      "  (0, 3311)\t1\n",
      "  (0, 824)\t1\n",
      "  (0, 1087)\t1\n",
      "  (0, 2508)\t1\n",
      "  (0, 210)\t1\n",
      "  (0, 6741)\t1\n",
      "  (1, 4226)\t1\n",
      "  (1, 3340)\t1\n",
      "  (1, 3168)\t1\n",
      "  (1, 6848)\t1\n",
      "  (1, 4252)\t1\n",
      "  (2, 2293)\t1\n",
      "  (2, 1912)\t2\n",
      "  (2, 6898)\t1\n",
      "  (2, 1193)\t1\n",
      "  (2, 6859)\t1\n",
      "  (2, 2042)\t2\n",
      "  :\t:\n",
      "  (5567, 813)\t1\n",
      "  (5567, 3805)\t1\n",
      "  (5567, 1802)\t1\n",
      "  (5568, 2783)\t1\n",
      "  (5568, 2479)\t1\n",
      "  (5568, 2280)\t1\n",
      "  (5568, 1942)\t1\n",
      "  (5569, 3882)\t1\n",
      "  (5569, 5939)\t1\n",
      "  (5569, 4538)\t1\n",
      "  (5570, 2293)\t1\n",
      "  (5570, 6783)\t1\n",
      "  (5570, 3433)\t1\n",
      "  (5570, 4071)\t1\n",
      "  (5570, 5651)\t1\n",
      "  (5570, 1856)\t1\n",
      "  (5570, 2396)\t1\n",
      "  (5570, 856)\t1\n",
      "  (5570, 2597)\t1\n",
      "  (5570, 3026)\t1\n",
      "  (5570, 58)\t1\n",
      "  (5570, 649)\t1\n",
      "  (5571, 3989)\t1\n",
      "  (5571, 6398)\t1\n",
      "  (5571, 5147)\t1\n",
      "**************************************************\n",
      "  (0, 5957)\t0.19460776670194488\n",
      "  (0, 190)\t0.3522946643655987\n",
      "  (0, 2208)\t0.1649859743034801\n",
      "  (0, 964)\t0.29761995607435426\n",
      "  (0, 736)\t0.33630333732147566\n",
      "  (0, 2932)\t0.28506031120996994\n",
      "  (0, 6135)\t0.23616756554565888\n",
      "  (0, 2245)\t0.19460776670194488\n",
      "  (0, 738)\t0.29761995607435426\n",
      "  (0, 379)\t0.26350491969128115\n",
      "  (0, 1169)\t0.27282796669086984\n",
      "  (0, 4091)\t0.24055424511726686\n",
      "  (0, 2827)\t0.3522946643655987\n",
      "  (0, 2171)\t0.14066343975170745\n",
      "  (1, 3785)\t0.564793662023427\n",
      "  (1, 6056)\t0.44597659211687757\n",
      "  (1, 2794)\t0.4745440766926726\n",
      "  (1, 2960)\t0.4218982744467187\n",
      "  (1, 3760)\t0.2809319560263009\n",
      "  (2, 262)\t0.18752116579572622\n",
      "  (2, 4364)\t0.18116211299660373\n",
      "  (2, 5695)\t0.13727833879237866\n",
      "  (2, 5131)\t0.22058857181065877\n",
      "  (2, 4319)\t0.18498071794442764\n",
      "  (2, 4402)\t0.18116211299660373\n",
      "  :\t:\n",
      "  (5567, 3972)\t0.27091495270773075\n",
      "  (5567, 4364)\t0.2863616316109945\n",
      "  (5568, 1704)\t0.6652366917601374\n",
      "  (5568, 1996)\t0.5740672391289212\n",
      "  (5568, 2457)\t0.37457404553349233\n",
      "  (5568, 2171)\t0.29597505521175127\n",
      "  (5569, 4044)\t0.6374814122151056\n",
      "  (5569, 3439)\t0.5301411472422174\n",
      "  (5569, 5236)\t0.5590776449483026\n",
      "  (5570, 577)\t0.3555745855751181\n",
      "  (5570, 52)\t0.36271177880368555\n",
      "  (5570, 2669)\t0.3172992777960953\n",
      "  (5570, 2290)\t0.2538428488576467\n",
      "  (5570, 2099)\t0.334647625225627\n",
      "  (5570, 1630)\t0.2966361364434532\n",
      "  (5570, 763)\t0.24830789539080622\n",
      "  (5570, 4986)\t0.2496308456402218\n",
      "  (5570, 5804)\t0.2538428488576467\n",
      "  (5570, 3614)\t0.25533653028434977\n",
      "  (5570, 3042)\t0.19153202371128214\n",
      "  (5570, 5992)\t0.2221189861895815\n",
      "  (5570, 2007)\t0.19308847644461272\n",
      "  (5571, 4541)\t0.6981587787831502\n",
      "  (5571, 5657)\t0.5274275139134303\n",
      "  (5571, 3538)\t0.4841430957631416\n",
      "**************************************************\n",
      "  (0, 6741)\t0.19633321258370512\n",
      "  (0, 210)\t0.351386238469353\n",
      "  (0, 2508)\t0.16456054199713366\n",
      "  (0, 1087)\t0.2968525142062683\n",
      "  (0, 824)\t0.335436146610067\n",
      "  (0, 3311)\t0.2843252556020137\n",
      "  (0, 6935)\t0.2355585846155011\n",
      "  (0, 2545)\t0.19410595173633666\n",
      "  (0, 826)\t0.2968525142062683\n",
      "  (0, 431)\t0.2628254467470435\n",
      "  (0, 1337)\t0.2721244533674184\n",
      "  (0, 4593)\t0.23993395270917753\n",
      "  (0, 3198)\t0.351386238469353\n",
      "  (0, 2472)\t0.15480706750496417\n",
      "  (1, 4252)\t0.5466243141314314\n",
      "  (1, 6848)\t0.43162957585464123\n",
      "  (1, 3168)\t0.5236804332035243\n",
      "  (1, 3340)\t0.4083258549263009\n",
      "  (1, 4226)\t0.2718944069420321\n",
      "  (2, 292)\t0.18816818026525658\n",
      "  (2, 4905)\t0.1800420188056223\n",
      "  (2, 6441)\t0.1380224544873437\n",
      "  (2, 5817)\t0.21922471060483015\n",
      "  (2, 4854)\t0.18636175467482702\n",
      "  (2, 4955)\t0.18636175467482702\n",
      "  :\t:\n",
      "  (5567, 4745)\t0.24554519598456814\n",
      "  (5567, 4457)\t0.2646132036333892\n",
      "  (5567, 4905)\t0.27970057754625877\n",
      "  (5568, 1942)\t0.6485991737677518\n",
      "  (5568, 2280)\t0.5597098620657655\n",
      "  (5568, 2479)\t0.3642369776828009\n",
      "  (5568, 2783)\t0.3652059777476414\n",
      "  (5569, 4538)\t0.6198322100581006\n",
      "  (5569, 5939)\t0.5916968433151221\n",
      "  (5569, 3882)\t0.5154637494387073\n",
      "  (5570, 649)\t0.39807308806631797\n",
      "  (5570, 58)\t0.38000379101864434\n",
      "  (5570, 3026)\t0.33104482664118906\n",
      "  (5570, 2597)\t0.24432656702220468\n",
      "  (5570, 856)\t0.33104482664118906\n",
      "  (5570, 2396)\t0.3221020635462655\n",
      "  (5570, 1856)\t0.2855155825666112\n",
      "  (5570, 5651)\t0.24027246705038705\n",
      "  (5570, 4071)\t0.2457642520184673\n",
      "  (5570, 3433)\t0.18604066156825105\n",
      "  (5570, 6783)\t0.21379199615186695\n",
      "  (5570, 2293)\t0.1858498074441183\n",
      "  (5571, 5147)\t0.6975798527183569\n",
      "  (5571, 6398)\t0.5269901613449705\n",
      "  (5571, 3989)\t0.4854520768593306\n"
     ]
    }
   ],
   "source": [
    "print(X)\n",
    "print(\"*\"*50)\n",
    "print(Y)\n",
    "print(\"*\"*50)\n",
    "print(X2)\n",
    "print(\"*\"*50)\n",
    "print(Y2)"
   ],
   "metadata": {
    "collapsed": false,
    "pycharm": {
     "name": "#%%\n"
    }
   }
  },
  {
   "cell_type": "code",
   "execution_count": 8,
   "outputs": [
    {
     "data": {
      "text/plain": "      ham  spam\n0       1     0\n1       1     0\n2       0     1\n3       1     0\n4       1     0\n...   ...   ...\n5567    0     1\n5568    1     0\n5569    1     0\n5570    1     0\n5571    1     0\n\n[5572 rows x 2 columns]",
      "text/html": "<div>\n<style scoped>\n    .dataframe tbody tr th:only-of-type {\n        vertical-align: middle;\n    }\n\n    .dataframe tbody tr th {\n        vertical-align: top;\n    }\n\n    .dataframe thead th {\n        text-align: right;\n    }\n</style>\n<table border=\"1\" class=\"dataframe\">\n  <thead>\n    <tr style=\"text-align: right;\">\n      <th></th>\n      <th>ham</th>\n      <th>spam</th>\n    </tr>\n  </thead>\n  <tbody>\n    <tr>\n      <th>0</th>\n      <td>1</td>\n      <td>0</td>\n    </tr>\n    <tr>\n      <th>1</th>\n      <td>1</td>\n      <td>0</td>\n    </tr>\n    <tr>\n      <th>2</th>\n      <td>0</td>\n      <td>1</td>\n    </tr>\n    <tr>\n      <th>3</th>\n      <td>1</td>\n      <td>0</td>\n    </tr>\n    <tr>\n      <th>4</th>\n      <td>1</td>\n      <td>0</td>\n    </tr>\n    <tr>\n      <th>...</th>\n      <td>...</td>\n      <td>...</td>\n    </tr>\n    <tr>\n      <th>5567</th>\n      <td>0</td>\n      <td>1</td>\n    </tr>\n    <tr>\n      <th>5568</th>\n      <td>1</td>\n      <td>0</td>\n    </tr>\n    <tr>\n      <th>5569</th>\n      <td>1</td>\n      <td>0</td>\n    </tr>\n    <tr>\n      <th>5570</th>\n      <td>1</td>\n      <td>0</td>\n    </tr>\n    <tr>\n      <th>5571</th>\n      <td>1</td>\n      <td>0</td>\n    </tr>\n  </tbody>\n</table>\n<p>5572 rows × 2 columns</p>\n</div>"
     },
     "execution_count": 8,
     "metadata": {},
     "output_type": "execute_result"
    }
   ],
   "source": [
    "y = pd.get_dummies(df['level'])\n",
    "y"
   ],
   "metadata": {
    "collapsed": false,
    "pycharm": {
     "name": "#%%\n"
    }
   }
  },
  {
   "cell_type": "code",
   "execution_count": 9,
   "outputs": [
    {
     "data": {
      "text/plain": "1    4825\n0     747\nName: ham, dtype: int64"
     },
     "execution_count": 9,
     "metadata": {},
     "output_type": "execute_result"
    }
   ],
   "source": [
    "y['ham'].value_counts()"
   ],
   "metadata": {
    "collapsed": false,
    "pycharm": {
     "name": "#%%\n"
    }
   }
  },
  {
   "cell_type": "code",
   "execution_count": 10,
   "outputs": [
    {
     "data": {
      "text/plain": "0    4825\n1     747\nName: spam, dtype: int64"
     },
     "execution_count": 10,
     "metadata": {},
     "output_type": "execute_result"
    }
   ],
   "source": [
    "y['spam'].value_counts()"
   ],
   "metadata": {
    "collapsed": false,
    "pycharm": {
     "name": "#%%\n"
    }
   }
  },
  {
   "cell_type": "code",
   "execution_count": 11,
   "outputs": [
    {
     "data": {
      "text/plain": "array([0, 0, 1, ..., 0, 0, 0], dtype=uint8)"
     },
     "execution_count": 11,
     "metadata": {},
     "output_type": "execute_result"
    }
   ],
   "source": [
    "y = y.iloc[:,1].values\n",
    "y"
   ],
   "metadata": {
    "collapsed": false,
    "pycharm": {
     "name": "#%%\n"
    }
   }
  },
  {
   "cell_type": "code",
   "execution_count": 22,
   "outputs": [],
   "source": [
    "# split train , test\n",
    "xtrain,xtest,ytrain,ytest = train_test_split(X,y,test_size=.2,random_state=1)\n",
    "xtrain1,xtest1,ytrain1,ytest1 = train_test_split(Y,y,test_size=.2,random_state=1)\n",
    "xtrain2,xtest2,ytrain2,ytest2 = train_test_split(X2,y,test_size=.2,random_state=1)\n",
    "xtrain3,xtest3,ytrain3,ytest3 = train_test_split(Y2,y,test_size=.2,random_state=1)"
   ],
   "metadata": {
    "collapsed": false,
    "pycharm": {
     "name": "#%%\n"
    }
   }
  },
  {
   "cell_type": "code",
   "execution_count": 23,
   "outputs": [],
   "source": [
    "# Training model using Naive bayes classifier\n",
    "spam_detect_model = MultinomialNB().fit(xtrain,ytrain)\n",
    "spam_detect_model1 = MultinomialNB().fit(xtrain1,ytrain1)\n",
    "spam_detect_model2 = MultinomialNB().fit(xtrain2,ytrain2)\n",
    "spam_detect_model3 = MultinomialNB().fit(xtrain3,ytrain3)"
   ],
   "metadata": {
    "collapsed": false,
    "pycharm": {
     "name": "#%%\n"
    }
   }
  },
  {
   "cell_type": "code",
   "execution_count": 17,
   "outputs": [
    {
     "data": {
      "text/plain": "array([0, 0, 0, ..., 0, 0, 0], dtype=uint8)"
     },
     "execution_count": 17,
     "metadata": {},
     "output_type": "execute_result"
    }
   ],
   "source": [
    "ypred = spam_detect_model.predict(xtest)\n",
    "ypred"
   ],
   "metadata": {
    "collapsed": false,
    "pycharm": {
     "name": "#%%\n"
    }
   }
  },
  {
   "cell_type": "code",
   "execution_count": 28,
   "outputs": [
    {
     "data": {
      "text/plain": "array([0, 0, 0, ..., 0, 0, 0], dtype=uint8)"
     },
     "execution_count": 28,
     "metadata": {},
     "output_type": "execute_result"
    }
   ],
   "source": [
    "ypred1 = spam_detect_model1.predict(xtest1)\n",
    "ypred1"
   ],
   "metadata": {
    "collapsed": false,
    "pycharm": {
     "name": "#%%\n"
    }
   }
  },
  {
   "cell_type": "code",
   "execution_count": 29,
   "outputs": [
    {
     "data": {
      "text/plain": "array([0, 0, 0, ..., 0, 0, 0], dtype=uint8)"
     },
     "execution_count": 29,
     "metadata": {},
     "output_type": "execute_result"
    }
   ],
   "source": [
    "ypred2 = spam_detect_model2.predict(xtest2)\n",
    "ypred2"
   ],
   "metadata": {
    "collapsed": false,
    "pycharm": {
     "name": "#%%\n"
    }
   }
  },
  {
   "cell_type": "code",
   "execution_count": 30,
   "outputs": [
    {
     "data": {
      "text/plain": "array([0, 0, 0, ..., 0, 0, 0], dtype=uint8)"
     },
     "execution_count": 30,
     "metadata": {},
     "output_type": "execute_result"
    }
   ],
   "source": [
    "ypred3 = spam_detect_model3.predict(xtest3)\n",
    "ypred3"
   ],
   "metadata": {
    "collapsed": false,
    "pycharm": {
     "name": "#%%\n"
    }
   }
  },
  {
   "cell_type": "code",
   "execution_count": 19,
   "outputs": [
    {
     "data": {
      "text/plain": "array([[952,  16],\n       [  4, 143]], dtype=int64)"
     },
     "execution_count": 19,
     "metadata": {},
     "output_type": "execute_result"
    }
   ],
   "source": [
    "confus_matrix = confusion_matrix(ytest,ypred)\n",
    "confus_matrix"
   ],
   "metadata": {
    "collapsed": false,
    "pycharm": {
     "name": "#%%\n"
    }
   }
  },
  {
   "cell_type": "code",
   "execution_count": 31,
   "outputs": [
    {
     "data": {
      "text/plain": "array([[949,  19],\n       [  6, 141]], dtype=int64)"
     },
     "execution_count": 31,
     "metadata": {},
     "output_type": "execute_result"
    }
   ],
   "source": [
    "confus_matrix1 = confusion_matrix(ytest1,ypred1)\n",
    "confus_matrix1"
   ],
   "metadata": {
    "collapsed": false,
    "pycharm": {
     "name": "#%%\n"
    }
   }
  },
  {
   "cell_type": "code",
   "execution_count": 33,
   "outputs": [
    {
     "data": {
      "text/plain": "array([[967,   1],\n       [ 28, 119]], dtype=int64)"
     },
     "execution_count": 33,
     "metadata": {},
     "output_type": "execute_result"
    }
   ],
   "source": [
    "confus_matrix2 = confusion_matrix(ytest2,ypred2)\n",
    "confus_matrix2"
   ],
   "metadata": {
    "collapsed": false,
    "pycharm": {
     "name": "#%%\n"
    }
   }
  },
  {
   "cell_type": "code",
   "execution_count": 34,
   "outputs": [
    {
     "data": {
      "text/plain": "array([[967,   1],\n       [ 27, 120]], dtype=int64)"
     },
     "execution_count": 34,
     "metadata": {},
     "output_type": "execute_result"
    }
   ],
   "source": [
    "confus_matrix3 = confusion_matrix(ytest3,ypred3)\n",
    "confus_matrix3"
   ],
   "metadata": {
    "collapsed": false,
    "pycharm": {
     "name": "#%%\n"
    }
   }
  },
  {
   "cell_type": "code",
   "execution_count": 18,
   "outputs": [
    {
     "name": "stdout",
     "output_type": "stream",
     "text": [
      "Accuracy is:  98.206 %\n"
     ]
    }
   ],
   "source": [
    "# see accuracy\n",
    "accuracy = accuracy_score(ytest,ypred)\n",
    "print(\"Accuracy is: \",round(accuracy*100,ndigits=3),\"%\")"
   ],
   "metadata": {
    "collapsed": false,
    "pycharm": {
     "name": "#%%\n"
    }
   }
  },
  {
   "cell_type": "code",
   "execution_count": 38,
   "outputs": [
    {
     "name": "stdout",
     "output_type": "stream",
     "text": [
      "Accuracy1 is:  97.758 %\n"
     ]
    }
   ],
   "source": [
    "accuracy1 = accuracy_score(ytest1,ypred1)\n",
    "print(\"Accuracy1 is: \",round(accuracy1*100,ndigits=3),\"%\")"
   ],
   "metadata": {
    "collapsed": false,
    "pycharm": {
     "name": "#%%\n"
    }
   }
  },
  {
   "cell_type": "code",
   "execution_count": 39,
   "outputs": [
    {
     "name": "stdout",
     "output_type": "stream",
     "text": [
      "Accuracy2 is:  97.399 %\n"
     ]
    }
   ],
   "source": [
    "accuracy2 = accuracy_score(ytest2,ypred2)\n",
    "print(\"Accuracy2 is: \",round(accuracy2*100,ndigits=3),\"%\")"
   ],
   "metadata": {
    "collapsed": false,
    "pycharm": {
     "name": "#%%\n"
    }
   }
  },
  {
   "cell_type": "code",
   "execution_count": 40,
   "outputs": [
    {
     "name": "stdout",
     "output_type": "stream",
     "text": [
      "Accuracy3 is:  97.489 %\n"
     ]
    }
   ],
   "source": [
    "accuracy3 = accuracy_score(ytest3,ypred3)\n",
    "print(\"Accuracy3 is: \",round(accuracy3*100,ndigits=3),\"%\")"
   ],
   "metadata": {
    "collapsed": false,
    "pycharm": {
     "name": "#%%\n"
    }
   }
  },
  {
   "cell_type": "code",
   "execution_count": 21,
   "outputs": [
    {
     "name": "stdout",
     "output_type": "stream",
     "text": [
      "              precision    recall  f1-score   support\n",
      "\n",
      "           0       1.00      0.98      0.99       968\n",
      "           1       0.90      0.97      0.93       147\n",
      "\n",
      "    accuracy                           0.98      1115\n",
      "   macro avg       0.95      0.98      0.96      1115\n",
      "weighted avg       0.98      0.98      0.98      1115\n",
      "\n"
     ]
    }
   ],
   "source": [
    "print(classification_report(ytest,ypred))"
   ],
   "metadata": {
    "collapsed": false,
    "pycharm": {
     "name": "#%%\n"
    }
   }
  },
  {
   "cell_type": "code",
   "execution_count": null,
   "outputs": [],
   "source": [],
   "metadata": {
    "collapsed": false,
    "pycharm": {
     "name": "#%%\n"
    }
   }
  }
 ],
 "metadata": {
  "kernelspec": {
   "display_name": "Python 3",
   "language": "python",
   "name": "python3"
  },
  "language_info": {
   "codemirror_mode": {
    "name": "ipython",
    "version": 2
   },
   "file_extension": ".py",
   "mimetype": "text/x-python",
   "name": "python",
   "nbconvert_exporter": "python",
   "pygments_lexer": "ipython2",
   "version": "2.7.6"
  }
 },
 "nbformat": 4,
 "nbformat_minor": 0
}